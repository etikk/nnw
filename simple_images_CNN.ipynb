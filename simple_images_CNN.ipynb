{
 "cells": [
  {
   "cell_type": "code",
   "execution_count": 1,
   "metadata": {},
   "outputs": [
    {
     "name": "stderr",
     "output_type": "stream",
     "text": [
      "/home/erkkit/nnw/lib/python3.10/site-packages/tqdm/auto.py:21: TqdmWarning: IProgress not found. Please update jupyter and ipywidgets. See https://ipywidgets.readthedocs.io/en/stable/user_install.html\n",
      "  from .autonotebook import tqdm as notebook_tqdm\n"
     ]
    }
   ],
   "source": [
    "# BLOCK 1\n",
    "\n",
    "import numpy as np\n",
    "import torch\n",
    "import torch.nn as nn\n",
    "import torch.optim as optim\n",
    "from torch.utils.data import DataLoader, TensorDataset\n",
    "from sklearn.metrics import accuracy_score, precision_score, recall_score, f1_score\n",
    "from sklearn.model_selection import KFold\n",
    "from tqdm import tqdm\n",
    "import os\n",
    "from datetime import datetime\n",
    "import optuna\n"
   ]
  },
  {
   "cell_type": "code",
   "execution_count": 3,
   "metadata": {},
   "outputs": [],
   "source": [
    "# BLOCK 2\n",
    "\n",
    "import numpy as np\n",
    "import os\n",
    "\n",
    "def load_data(directory):\n",
    "    files = [f for f in os.listdir(directory) if f.endswith('.npz')]\n",
    "    images_list = []\n",
    "    labels_list = []\n",
    "\n",
    "    for file in sorted(files):\n",
    "        data = np.load(os.path.join(directory, file), allow_pickle=True)\n",
    "        images = data['images']\n",
    "        labels = data['labels']\n",
    "\n",
    "        images_list.append(images)\n",
    "        labels_list.extend(labels)\n",
    "\n",
    "    images_combined = np.concatenate(images_list, axis=0)\n",
    "    labels_combined = np.array(labels_list, dtype=np.int32)\n",
    "\n",
    "    return images_combined, labels_combined"
   ]
  },
  {
   "cell_type": "code",
   "execution_count": 4,
   "metadata": {},
   "outputs": [],
   "source": [
    "# BLOCK 3\n",
    "\n",
    "import torch\n",
    "import torch.nn as nn\n",
    "import torch.nn.functional as F\n",
    "\n",
    "class CNNModel(nn.Module):\n",
    "    def __init__(self, conv1_filters=32, conv2_filters=64, conv3_filters=128, fc1_units=128, dropout_rate=0.5):\n",
    "        super(CNNModel, self).__init__()\n",
    "        self.conv1 = nn.Conv2d(1, conv1_filters, kernel_size=3, padding=1)  # Changed to 1 channel for grayscale\n",
    "        self.pool = nn.MaxPool2d(2, 2)\n",
    "        self.conv2 = nn.Conv2d(conv1_filters, conv2_filters, kernel_size=3, padding=1)\n",
    "        self.conv3 = nn.Conv2d(conv2_filters, conv3_filters, kernel_size=3, padding=1)\n",
    "\n",
    "        self.fc1 = nn.Linear(conv3_filters * 32 * 32, fc1_units)  # Adjusted the size accordingly\n",
    "        self.dropout = nn.Dropout(dropout_rate)\n",
    "        self.fc2 = nn.Linear(fc1_units, 2)\n",
    "\n",
    "    def forward(self, x):\n",
    "        x = self.pool(F.relu(self.conv1(x)))\n",
    "        x = self.pool(F.relu(self.conv2(x)))\n",
    "        x = self.pool(F.relu(self.conv3(x)))\n",
    "        x = x.view(x.size(0), -1)\n",
    "        x = self.dropout(F.relu(self.fc1(x)))\n",
    "        x = self.fc2(x)\n",
    "        return x\n"
   ]
  },
  {
   "cell_type": "code",
   "execution_count": 6,
   "metadata": {},
   "outputs": [],
   "source": [
    "# BLOCK 4\n",
    "\n",
    "from datetime import datetime\n",
    "\n",
    "def train_and_evaluate(X, y, fold_count=7, conv1_filters=32, conv2_filters=64, conv3_filters=128, fc1_units=128, dropout_rate=0.5):\n",
    "    kf = KFold(n_splits=fold_count)\n",
    "    results = []\n",
    "    best_model = None\n",
    "    best_f1 = 0.0\n",
    "\n",
    "    for fold, (train_index, val_index) in enumerate(kf.split(X)):\n",
    "        X_train, X_val = X[train_index], X[val_index]\n",
    "        y_train, y_val = y[train_index], y[val_index]\n",
    "\n",
    "        print(f\"Fold {fold + 1}:\")\n",
    "        print(f\"  X_train shape: {X_train.shape}\")\n",
    "        print(f\"  y_train shape: {y_train.shape}\")\n",
    "        print(f\"  X_val shape: {X_val.shape}\")\n",
    "        print(f\"  y_val shape: {y_val.shape}\")\n",
    "\n",
    "        X_train_tensor = torch.tensor(X_train, dtype=torch.float32).unsqueeze(1)\n",
    "        y_train_tensor = torch.tensor(y_train, dtype=torch.long)\n",
    "        X_val_tensor = torch.tensor(X_val, dtype=torch.float32).unsqueeze(1)\n",
    "        y_val_tensor = torch.tensor(y_val, dtype=torch.long)\n",
    "\n",
    "        train_loader = DataLoader(TensorDataset(X_train_tensor, y_train_tensor), batch_size=16, shuffle=True)\n",
    "        val_loader = DataLoader(TensorDataset(X_val_tensor, y_val_tensor), batch_size=16, shuffle=False)\n",
    "\n",
    "        model = CNNModel(conv1_filters, conv2_filters, conv3_filters, fc1_units, dropout_rate)\n",
    "        criterion = nn.CrossEntropyLoss()\n",
    "        optimizer = optim.Adam(model.parameters(), lr=0.001)\n",
    "\n",
    "        model.train()\n",
    "        for epoch in tqdm(range(20), desc=f'Training fold {fold + 1}'):\n",
    "            for inputs, labels in train_loader:\n",
    "                optimizer.zero_grad()\n",
    "                outputs = model(inputs)\n",
    "                loss = criterion(outputs, labels)\n",
    "                loss.backward()\n",
    "                optimizer.step()\n",
    "\n",
    "        model.eval()\n",
    "        with torch.no_grad():\n",
    "            val_predictions = []\n",
    "            val_true = []\n",
    "            for inputs, labels in val_loader:\n",
    "                outputs = model(inputs)\n",
    "                _, predicted = torch.max(outputs.data, 1)\n",
    "                val_predictions.extend(predicted.numpy())\n",
    "                val_true.extend(labels.numpy())\n",
    "\n",
    "        accuracy = accuracy_score(val_true, val_predictions)\n",
    "        precision = precision_score(val_true, val_predictions, average='macro')\n",
    "        recall = recall_score(val_true, val_predictions, average='macro')\n",
    "        f1 = f1_score(val_true, val_predictions, average='macro')\n",
    "\n",
    "        print(f\"  Results for fold {fold + 1}:\")\n",
    "        print(f\"    Accuracy: {accuracy}\")\n",
    "        print(f\"    Precision: {precision}\")\n",
    "        print(f\"    Recall: {recall}\")\n",
    "        print(f\"    F1 Score: {f1}\")\n",
    "        results.append((accuracy, precision, recall, f1))\n",
    "\n",
    "        if f1 > best_f1:\n",
    "            best_f1 = f1\n",
    "            best_model = model\n",
    "\n",
    "    avg_results = np.mean(results, axis=0)\n",
    "    print(f\"Average results across all folds:\")\n",
    "    print(f\"  Accuracy: {avg_results[0]}\")\n",
    "    print(f\"  Precision: {avg_results[1]}\")\n",
    "    print(f\"  Recall: {avg_results[2]}\")\n",
    "    print(f\"  F1 Score: {avg_results[3]}\")\n",
    "\n",
    "    return best_model, results\n",
    "\n"
   ]
  },
  {
   "cell_type": "code",
   "execution_count": 7,
   "metadata": {},
   "outputs": [],
   "source": [
    "# BLOCK 5\n",
    "\n",
    "# Define global variables for the data\n",
    "X_train_sample, y_train_sample = None, None\n",
    "\n",
    "def objective(trial):\n",
    "    conv1_filters = trial.suggest_int('conv1_filters', 16, 64, step=16)\n",
    "    conv2_filters = trial.suggest_int('conv2_filters', 32, 128, step=32)\n",
    "    conv3_filters = trial.suggest_int('conv3_filters', 64, 256, step=64)\n",
    "    fc1_units = trial.suggest_int('fc1_units', 64, 256, step=64)\n",
    "    dropout_rate = trial.suggest_float('dropout_rate', 0.3, 0.7, step=0.1)\n",
    "\n",
    "    best_model, results = train_and_evaluate(X_train_sample, y_train_sample, fold_count=3, conv1_filters=conv1_filters, conv2_filters=conv2_filters, conv3_filters=conv3_filters, fc1_units=fc1_units, dropout_rate=dropout_rate)\n",
    "    avg_f1 = np.mean([result[3] for result in results])\n",
    "    return avg_f1"
   ]
  },
  {
   "cell_type": "code",
   "execution_count": 8,
   "metadata": {},
   "outputs": [],
   "source": [
    "# BLOCK 6\n",
    "\n",
    "# Load data directly from files\n",
    "train_metrics, train_labels = load_data('./npz_results/train')\n",
    "val_metrics, val_labels = load_data('./npz_results/val')\n",
    "test_metrics, test_labels = load_data('./npz_results/test')\n",
    "\n",
    "# Cap the data size to 10% for hyperparameter tuning\n",
    "def sample_data(X, y, sample_fraction=0.1):\n",
    "    sample_size = int(len(X) * sample_fraction)\n",
    "    indices = np.random.choice(len(X), sample_size, replace=False)\n",
    "    return X[indices], y[indices]\n",
    "\n",
    "X_train_sample, y_train_sample = sample_data(train_metrics, train_labels, sample_fraction=0.1)\n",
    "X_val_sample, y_val_sample = sample_data(val_metrics, val_labels, sample_fraction=0.1)\n",
    "X_test_sample, y_test_sample = sample_data(test_metrics, test_labels, sample_fraction=0.1)\n",
    "\n",
    "# Full data for final training\n",
    "X_train_full, y_train_full = train_metrics, train_labels\n",
    "X_val_full, y_val_full = val_metrics, val_labels\n",
    "X_test_full, y_test_full = test_metrics, test_labels\n",
    "\n"
   ]
  },
  {
   "cell_type": "code",
   "execution_count": 9,
   "metadata": {},
   "outputs": [
    {
     "name": "stdout",
     "output_type": "stream",
     "text": [
      "Fold 1:\n",
      "  X_train shape: (1785, 256, 256)\n",
      "  y_train shape: (1785,)\n",
      "  X_val shape: (893, 256, 256)\n",
      "  y_val shape: (893,)\n"
     ]
    },
    {
     "name": "stderr",
     "output_type": "stream",
     "text": [
      "Training fold 1: 100%|██████████| 20/20 [13:22<00:00, 40.13s/it]\n"
     ]
    },
    {
     "name": "stdout",
     "output_type": "stream",
     "text": [
      "  Results for fold 1:\n",
      "    Accuracy: 0.6674132138857782\n",
      "    Precision: 0.638601837131249\n",
      "    Recall: 0.5848968308068513\n",
      "    F1 Score: 0.5763601484219387\n",
      "Fold 2:\n",
      "  X_train shape: (1785, 256, 256)\n",
      "  y_train shape: (1785,)\n",
      "  X_val shape: (893, 256, 256)\n",
      "  y_val shape: (893,)\n"
     ]
    },
    {
     "name": "stderr",
     "output_type": "stream",
     "text": [
      "Training fold 2: 100%|██████████| 20/20 [13:05<00:00, 39.26s/it]\n"
     ]
    },
    {
     "name": "stdout",
     "output_type": "stream",
     "text": [
      "  Results for fold 2:\n",
      "    Accuracy: 0.6326987681970885\n",
      "    Precision: 0.5910991021901985\n",
      "    Recall: 0.587881746767289\n",
      "    F1 Score: 0.5890612373170513\n",
      "Fold 3:\n",
      "  X_train shape: (1786, 256, 256)\n",
      "  y_train shape: (1786,)\n",
      "  X_val shape: (892, 256, 256)\n",
      "  y_val shape: (892,)\n"
     ]
    },
    {
     "name": "stderr",
     "output_type": "stream",
     "text": [
      "Training fold 3: 100%|██████████| 20/20 [13:04<00:00, 39.24s/it]\n"
     ]
    },
    {
     "name": "stdout",
     "output_type": "stream",
     "text": [
      "  Results for fold 3:\n",
      "    Accuracy: 0.6591928251121076\n",
      "    Precision: 0.6208405136149744\n",
      "    Recall: 0.6149194104631208\n",
      "    F1 Score: 0.6170203150068923\n",
      "Average results across all folds:\n",
      "  Accuracy: 0.6531016023983248\n",
      "  Precision: 0.6168471509788073\n",
      "  Recall: 0.5958993293457536\n",
      "  F1 Score: 0.5941472335819608\n"
     ]
    },
    {
     "data": {
      "text/plain": [
       "(CNNModel(\n",
       "   (conv1): Conv2d(1, 32, kernel_size=(3, 3), stride=(1, 1), padding=(1, 1))\n",
       "   (pool): MaxPool2d(kernel_size=2, stride=2, padding=0, dilation=1, ceil_mode=False)\n",
       "   (conv2): Conv2d(32, 64, kernel_size=(3, 3), stride=(1, 1), padding=(1, 1))\n",
       "   (conv3): Conv2d(64, 128, kernel_size=(3, 3), stride=(1, 1), padding=(1, 1))\n",
       "   (fc1): Linear(in_features=131072, out_features=128, bias=True)\n",
       "   (dropout): Dropout(p=0.5, inplace=False)\n",
       "   (fc2): Linear(in_features=128, out_features=2, bias=True)\n",
       " ),\n",
       " [(0.6674132138857782,\n",
       "   0.638601837131249,\n",
       "   0.5848968308068513,\n",
       "   0.5763601484219387),\n",
       "  (0.6326987681970885,\n",
       "   0.5910991021901985,\n",
       "   0.587881746767289,\n",
       "   0.5890612373170513),\n",
       "  (0.6591928251121076,\n",
       "   0.6208405136149744,\n",
       "   0.6149194104631208,\n",
       "   0.6170203150068923)])"
      ]
     },
     "execution_count": 9,
     "metadata": {},
     "output_type": "execute_result"
    }
   ],
   "source": [
    "# For pipeline testing\n",
    "# train_and_evaluate(X_train_sample, y_train_sample, fold_count=3)"
   ]
  },
  {
   "cell_type": "code",
   "execution_count": null,
   "metadata": {},
   "outputs": [],
   "source": [
    "# BLOCK 7\n",
    "\n",
    "study = optuna.create_study(direction='maximize')\n",
    "study.optimize(objective, n_trials=10)\n",
    "\n",
    "best_trial = study.best_trial\n",
    "print(f\"Best trial: {best_trial.values}\")\n",
    "print(f\"Best hyperparameters: {best_trial.params}\")\n",
    "\n",
    "# BLOCK 8\n",
    "\n",
    "best_hyperparameters = best_trial.params\n",
    "best_model, results = train_and_evaluate(X_train_full, y_train_full, fold_count=7, **best_hyperparameters)\n",
    "\n",
    "avg_results = np.mean(results, axis=0)\n",
    "print(\"Final training with best hyperparameters:\")\n",
    "print(f\"  Accuracy: {avg_results[0]}\")\n",
    "print(f\"  Precision: {avg_results[1]}\")\n",
    "print(f\"  Recall: {avg_results[2]}\")\n",
    "print(f\"  F1 Score: {avg_results[3]}\")\n",
    "\n",
    "now = datetime.now()\n",
    "timestamp = now.strftime(\"%Y%m%d_%H%M%S\")\n",
    "filename = f\"best_simple_images_cnn_model_{timestamp}.pth\"\n",
    "print(f\"Model will be saved as: {filename}\")\n",
    "\n",
    "if best_model is not None:\n",
    "    torch.save(best_model, filename)\n",
    "    print(f\"Best model saved to '{filename}'.\")"
   ]
  },
  {
   "cell_type": "code",
   "execution_count": 8,
   "metadata": {},
   "outputs": [
    {
     "name": "stdout",
     "output_type": "stream",
     "text": [
      "Test set evaluation results:\n",
      "  Accuracy: 0.917797717571217\n",
      "  Precision: 0.9134568367293017\n",
      "  Recall: 0.9055249910166071\n",
      "  F1 Score: 0.9092475604292138\n"
     ]
    },
    {
     "data": {
      "text/plain": [
       "(0.917797717571217, 0.9134568367293017, 0.9055249910166071, 0.9092475604292138)"
      ]
     },
     "execution_count": 8,
     "metadata": {},
     "output_type": "execute_result"
    }
   ],
   "source": [
    "# BLOCK 9 - Testing the model on the test set\n",
    "\n",
    "def evaluate_model_on_test_set(model, X_test, y_test):\n",
    "    model.eval()\n",
    "    with torch.no_grad():\n",
    "        test_predictions = []\n",
    "        test_true = []\n",
    "        for inputs, labels in DataLoader(TensorDataset(X_test, y_test), batch_size=16, shuffle=False):\n",
    "            outputs = model(inputs)\n",
    "            _, predicted = torch.max(outputs.data, 1)\n",
    "            test_predictions.extend(predicted.numpy())\n",
    "            test_true.extend(labels.numpy())\n",
    "\n",
    "    accuracy = accuracy_score(test_true, test_predictions)\n",
    "    precision = precision_score(test_true, test_predictions, average='macro')\n",
    "    recall = recall_score(test_true, test_predictions, average='macro')\n",
    "    f1 = f1_score(test_true, test_predictions, average='macro')\n",
    "\n",
    "    print(\"Test set evaluation results:\")\n",
    "    print(f\"  Accuracy: {accuracy}\")\n",
    "    print(f\"  Precision: {precision}\")\n",
    "    print(f\"  Recall: {recall}\")\n",
    "    print(f\"  F1 Score: {f1}\")\n",
    "\n",
    "    return accuracy, precision, recall, f1\n",
    "\n",
    "# Prepare the test data\n",
    "X_test_tensor = torch.tensor(X_test_full, dtype=torch.float32).permute(0, 2, 1).unsqueeze(3)\n",
    "y_test_tensor = torch.tensor(y_test_full, dtype=torch.long)\n",
    "\n",
    "# Load the best model\n",
    "model = CNNModel(**best_hyperparameters)\n",
    "model.load_state_dict(torch.load(filename))\n",
    "\n",
    "# Evaluate the model on the test set\n",
    "evaluate_model_on_test_set(model, X_test_tensor, y_test_tensor)\n"
   ]
  }
 ],
 "metadata": {
  "kernelspec": {
   "display_name": "nnw",
   "language": "python",
   "name": "python3"
  },
  "language_info": {
   "codemirror_mode": {
    "name": "ipython",
    "version": 3
   },
   "file_extension": ".py",
   "mimetype": "text/x-python",
   "name": "python",
   "nbconvert_exporter": "python",
   "pygments_lexer": "ipython3",
   "version": "3.10.12"
  }
 },
 "nbformat": 4,
 "nbformat_minor": 2
}
