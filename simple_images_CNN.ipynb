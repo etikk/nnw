{
 "cells": [
  {
   "cell_type": "code",
   "execution_count": 1,
   "metadata": {},
   "outputs": [
    {
     "name": "stderr",
     "output_type": "stream",
     "text": [
      "/home/erkkit/nnw/lib/python3.10/site-packages/tqdm/auto.py:21: TqdmWarning: IProgress not found. Please update jupyter and ipywidgets. See https://ipywidgets.readthedocs.io/en/stable/user_install.html\n",
      "  from .autonotebook import tqdm as notebook_tqdm\n"
     ]
    }
   ],
   "source": [
    "# BLOCK 1\n",
    "\n",
    "import numpy as np\n",
    "import torch\n",
    "import torch.nn as nn\n",
    "import torch.optim as optim\n",
    "from torch.utils.data import DataLoader, TensorDataset\n",
    "from sklearn.metrics import accuracy_score, precision_score, recall_score, f1_score\n",
    "from sklearn.model_selection import KFold\n",
    "from tqdm import tqdm\n",
    "import os\n",
    "from datetime import datetime\n",
    "import optuna\n"
   ]
  },
  {
   "cell_type": "code",
   "execution_count": 2,
   "metadata": {},
   "outputs": [],
   "source": [
    "# BLOCK 2\n",
    "\n",
    "import numpy as np\n",
    "import os\n",
    "\n",
    "def load_data(directory):\n",
    "    files = [f for f in os.listdir(directory) if f.endswith('.npz')]\n",
    "    images_list = []\n",
    "    labels_list = []\n",
    "\n",
    "    for file in sorted(files):\n",
    "        data = np.load(os.path.join(directory, file), allow_pickle=True)\n",
    "        images = data['images']\n",
    "        labels = data['labels']\n",
    "\n",
    "        images_list.append(images)\n",
    "        labels_list.extend(labels)\n",
    "\n",
    "    images_combined = np.concatenate(images_list, axis=0)\n",
    "    labels_combined = np.array(labels_list, dtype=np.int32)\n",
    "\n",
    "    return images_combined, labels_combined"
   ]
  },
  {
   "cell_type": "code",
   "execution_count": 3,
   "metadata": {},
   "outputs": [],
   "source": [
    "# BLOCK 3\n",
    "\n",
    "import torch\n",
    "import torch.nn as nn\n",
    "import torch.nn.functional as F\n",
    "\n",
    "class CNNModel(nn.Module):\n",
    "    def __init__(self, conv1_filters=32, conv2_filters=64, conv3_filters=128, fc1_units=128, dropout_rate=0.5):\n",
    "        super(CNNModel, self).__init__()\n",
    "        self.conv1 = nn.Conv2d(1, conv1_filters, kernel_size=3, padding=1)  # Changed to 1 channel for grayscale\n",
    "        self.pool = nn.MaxPool2d(2, 2)\n",
    "        self.conv2 = nn.Conv2d(conv1_filters, conv2_filters, kernel_size=3, padding=1)\n",
    "        self.conv3 = nn.Conv2d(conv2_filters, conv3_filters, kernel_size=3, padding=1)\n",
    "\n",
    "        self.fc1 = nn.Linear(conv3_filters * 32 * 32, fc1_units)  # Adjusted the size accordingly\n",
    "        self.dropout = nn.Dropout(dropout_rate)\n",
    "        self.fc2 = nn.Linear(fc1_units, 2)\n",
    "\n",
    "    def forward(self, x):\n",
    "        x = self.pool(F.relu(self.conv1(x)))\n",
    "        x = self.pool(F.relu(self.conv2(x)))\n",
    "        x = self.pool(F.relu(self.conv3(x)))\n",
    "        x = x.view(x.size(0), -1)\n",
    "        x = self.dropout(F.relu(self.fc1(x)))\n",
    "        x = self.fc2(x)\n",
    "        return x\n"
   ]
  },
  {
   "cell_type": "code",
   "execution_count": 4,
   "metadata": {},
   "outputs": [],
   "source": [
    "# BLOCK 4\n",
    "\n",
    "from datetime import datetime\n",
    "\n",
    "def train_and_evaluate(X, y, fold_count=7, conv1_filters=32, conv2_filters=64, conv3_filters=128, fc1_units=128, dropout_rate=0.5):\n",
    "    print(f\"Training with {fold_count} folds\")\n",
    "    kf = KFold(n_splits=fold_count)\n",
    "    results = []\n",
    "    best_model = None\n",
    "    best_f1 = 0.0\n",
    "\n",
    "    for fold, (train_index, val_index) in enumerate(kf.split(X)):\n",
    "        print(\"Starting new fold\")\n",
    "        X_train, X_val = X[train_index], X[val_index]\n",
    "        y_train, y_val = y[train_index], y[val_index]\n",
    "\n",
    "        print(f\"Fold {fold + 1}:\")\n",
    "        print(f\"  X_train shape: {X_train.shape}\")\n",
    "        print(f\"  y_train shape: {y_train.shape}\")\n",
    "        print(f\"  X_val shape: {X_val.shape}\")\n",
    "        print(f\"  y_val shape: {y_val.shape}\")\n",
    "\n",
    "        X_train_tensor = torch.tensor(X_train, dtype=torch.float32).unsqueeze(1)\n",
    "        y_train_tensor = torch.tensor(y_train, dtype=torch.long)\n",
    "        X_val_tensor = torch.tensor(X_val, dtype=torch.float32).unsqueeze(1)\n",
    "        y_val_tensor = torch.tensor(y_val, dtype=torch.long)\n",
    "\n",
    "        train_loader = DataLoader(TensorDataset(X_train_tensor, y_train_tensor), batch_size=16, shuffle=True)\n",
    "        val_loader = DataLoader(TensorDataset(X_val_tensor, y_val_tensor), batch_size=16, shuffle=False)\n",
    "\n",
    "        model = CNNModel(conv1_filters, conv2_filters, conv3_filters, fc1_units, dropout_rate)\n",
    "        criterion = nn.CrossEntropyLoss()\n",
    "        optimizer = optim.Adam(model.parameters(), lr=0.001)\n",
    "\n",
    "        model.train()\n",
    "        for epoch in tqdm(range(20), desc=f'Training fold {fold + 1}'):\n",
    "            for inputs, labels in train_loader:\n",
    "                optimizer.zero_grad()\n",
    "                outputs = model(inputs)\n",
    "                loss = criterion(outputs, labels)\n",
    "                loss.backward()\n",
    "                optimizer.step()\n",
    "\n",
    "        model.eval()\n",
    "        with torch.no_grad():\n",
    "            val_predictions = []\n",
    "            val_true = []\n",
    "            for inputs, labels in val_loader:\n",
    "                outputs = model(inputs)\n",
    "                _, predicted = torch.max(outputs.data, 1)\n",
    "                val_predictions.extend(predicted.numpy())\n",
    "                val_true.extend(labels.numpy())\n",
    "\n",
    "        accuracy = accuracy_score(val_true, val_predictions)\n",
    "        precision = precision_score(val_true, val_predictions, average='macro')\n",
    "        recall = recall_score(val_true, val_predictions, average='macro')\n",
    "        f1 = f1_score(val_true, val_predictions, average='macro')\n",
    "\n",
    "        print(f\"  Results for fold {fold + 1}:\")\n",
    "        print(f\"    Accuracy: {accuracy}\")\n",
    "        print(f\"    Precision: {precision}\")\n",
    "        print(f\"    Recall: {recall}\")\n",
    "        print(f\"    F1 Score: {f1}\")\n",
    "        results.append((accuracy, precision, recall, f1))\n",
    "\n",
    "        if f1 > best_f1:\n",
    "            best_f1 = f1\n",
    "            best_model = model\n",
    "\n",
    "    avg_results = np.mean(results, axis=0)\n",
    "    print(f\"Average results across all folds:\")\n",
    "    print(f\"  Accuracy: {avg_results[0]}\")\n",
    "    print(f\"  Precision: {avg_results[1]}\")\n",
    "    print(f\"  Recall: {avg_results[2]}\")\n",
    "    print(f\"  F1 Score: {avg_results[3]}\")\n",
    "\n",
    "    return best_model, results\n",
    "\n"
   ]
  },
  {
   "cell_type": "code",
   "execution_count": 5,
   "metadata": {},
   "outputs": [],
   "source": [
    "# BLOCK 5\n",
    "\n",
    "# Define global variables for the data\n",
    "X_train_sample, y_train_sample = None, None\n",
    "\n",
    "def objective(trial):\n",
    "    conv1_filters = trial.suggest_int('conv1_filters', 16, 64, step=16)\n",
    "    conv2_filters = trial.suggest_int('conv2_filters', 32, 128, step=32)\n",
    "    conv3_filters = trial.suggest_int('conv3_filters', 64, 256, step=64)\n",
    "    fc1_units = trial.suggest_int('fc1_units', 64, 256, step=64)\n",
    "    dropout_rate = trial.suggest_float('dropout_rate', 0.3, 0.7, step=0.1)\n",
    "\n",
    "    best_model, results = train_and_evaluate(X_train_sample, y_train_sample, fold_count=3, conv1_filters=conv1_filters, conv2_filters=conv2_filters, conv3_filters=conv3_filters, fc1_units=fc1_units, dropout_rate=dropout_rate)\n",
    "    avg_f1 = np.mean([result[3] for result in results])\n",
    "    return avg_f1"
   ]
  },
  {
   "cell_type": "code",
   "execution_count": 6,
   "metadata": {},
   "outputs": [
    {
     "name": "stdout",
     "output_type": "stream",
     "text": [
      "Full data shapes:\n",
      "[[  0 255 255 ... 255 255 255]\n",
      " [255   0   0 ... 255 255 255]\n",
      " [255 255 255 ... 255 255 255]\n",
      " ...\n",
      " [255 255 255 ...   0   0   0]\n",
      " [255 255 255 ...   0   0   0]\n",
      " [255 255 255 ...   0   0   0]] (267841, 256, 256)\n",
      "0 (267841,)\n",
      "[[  0 255 255 ... 255 255 255]\n",
      " [255   0 255 ... 255 255 255]\n",
      " [255 255   0 ... 255 255 255]\n",
      " ...\n",
      " [255 255 255 ...   0   0   0]\n",
      " [255 255 255 ...   0   0   0]\n",
      " [255 255 255 ...   0 255   0]] (57394, 256, 256)\n",
      "0 (57394,)\n",
      "[[  0 255 255 ... 255 255 255]\n",
      " [255   0 255 ... 255 255 255]\n",
      " [255 255   0 ... 255 255 255]\n",
      " ...\n",
      " [255 255 255 ...   0   0   0]\n",
      " [255 255 255 ...   0   0   0]\n",
      " [255 255 255 ... 255   0   0]] (57395, 256, 256)\n",
      "0 (57395,)\n",
      "Sample data shapes:\n",
      "[[  0 255 255 ... 255 255   0]\n",
      " [255   0   0 ... 255   0   0]\n",
      " [255 255 255 ...   0   0   0]\n",
      " ...\n",
      " [255 255 255 ... 255 255 255]\n",
      " [255 255 255 ... 255 255 255]\n",
      " [255 255 255 ... 255 255 255]] (1339, 256, 256)\n",
      "0 (1339,)\n",
      "[[  0   0 255 ... 255 255 255]\n",
      " [255 255   0 ... 255 255 255]\n",
      " [255 255 255 ... 255 255 255]\n",
      " ...\n",
      " [255 255 255 ...   0   0   0]\n",
      " [255 255 255 ...   0   0   0]\n",
      " [255 255   0 ...   0   0   0]] (286, 256, 256)\n",
      "1 (286,)\n",
      "[[  0   0 255 ... 255 255   0]\n",
      " [255 255   0 ... 255 255   0]\n",
      " [255 255 255 ... 255   0   0]\n",
      " ...\n",
      " [255 255 255 ...   0   0   0]\n",
      " [255 255 255 ...   0   0   0]\n",
      " [255 255 255 ...   0   0   0]] (286, 256, 256)\n",
      "0 (286,)\n"
     ]
    }
   ],
   "source": [
    "# BLOCK 6\n",
    "\n",
    "# Load data directly from files\n",
    "train_metrics, train_labels = load_data('./npz_results/train')\n",
    "val_metrics, val_labels = load_data('./npz_results/val')\n",
    "test_metrics, test_labels = load_data('./npz_results/test')\n",
    "\n",
    "# Cap the data size to 10% for hyperparameter tuning\n",
    "def sample_data(X, y, sample_fraction=0.005):\n",
    "    sample_size = int(len(X) * sample_fraction)\n",
    "    indices = np.random.choice(len(X), sample_size, replace=False)\n",
    "    return X[indices], y[indices]\n",
    "\n",
    "X_train_sample, y_train_sample = sample_data(train_metrics, train_labels, sample_fraction=0.005)\n",
    "X_val_sample, y_val_sample = sample_data(val_metrics, val_labels, sample_fraction=0.005)\n",
    "X_test_sample, y_test_sample = sample_data(test_metrics, test_labels, sample_fraction=0.005)\n",
    "\n",
    "# Full data for final training\n",
    "X_train_full, y_train_full = train_metrics, train_labels\n",
    "X_val_full, y_val_full = val_metrics, val_labels\n",
    "X_test_full, y_test_full = test_metrics, test_labels\n",
    "\n",
    "print(\"Full data shapes:\")\n",
    "print(X_train_full[0], X_train_full.shape)\n",
    "print(y_train_full[0], y_train_full.shape)\n",
    "print(X_val_full[0], X_val_full.shape)\n",
    "print(y_val_full[0], y_val_full.shape)\n",
    "print(X_test_full[0], X_test_full.shape)\n",
    "print(y_test_full[0], y_test_full.shape)\n",
    "\n",
    "print(\"Sample data shapes:\")\n",
    "print(X_train_sample[0], X_train_sample.shape)\n",
    "print(y_train_sample[0], y_train_sample.shape)\n",
    "print(X_val_sample[0], X_val_sample.shape)\n",
    "print(y_val_sample[0], y_val_sample.shape)\n",
    "print(X_test_sample[0], X_test_sample.shape)\n",
    "print(y_test_sample[0], y_test_sample.shape)\n",
    "\n"
   ]
  },
  {
   "cell_type": "code",
   "execution_count": 7,
   "metadata": {},
   "outputs": [
    {
     "name": "stdout",
     "output_type": "stream",
     "text": [
      "First entry of images:\n",
      "[[  0   0   0 ... 255 255 255]\n",
      " [255 255 255 ... 255 255 255]\n",
      " [255 255 255 ... 255 255 255]\n",
      " ...\n",
      " [255 255 255 ...   0   0   0]\n",
      " [255 255 255 ...   0   0   0]\n",
      " [255 255 255 ... 255   0   0]]\n",
      "Shape of first entry: (256, 256)\n",
      "\n",
      "First entry of labels:\n",
      "0\n"
     ]
    }
   ],
   "source": [
    "def print_first_entry(directory):\n",
    "    files = [f for f in os.listdir(directory) if f.endswith('.npz')]\n",
    "    if files:\n",
    "        data = np.load(os.path.join(directory, files[0]), allow_pickle=True)\n",
    "        images = data['images']\n",
    "        labels = data['labels']\n",
    "        \n",
    "        # Print the first entry of images and labels\n",
    "        print(\"First entry of images:\")\n",
    "        print(images[0])\n",
    "        print(\"Shape of first entry:\", images[0].shape)\n",
    "        \n",
    "        print(\"\\nFirst entry of labels:\")\n",
    "        print(labels[0])\n",
    "\n",
    "# Call the function for one of the directories\n",
    "print_first_entry('./npz_results/train')"
   ]
  },
  {
   "cell_type": "code",
   "execution_count": null,
   "metadata": {},
   "outputs": [],
   "source": [
    "# For pipeline testing\n",
    "# train_and_evaluate(X_train_sample, y_train_sample, fold_count=3)"
   ]
  },
  {
   "cell_type": "code",
   "execution_count": 8,
   "metadata": {},
   "outputs": [
    {
     "name": "stderr",
     "output_type": "stream",
     "text": [
      "[I 2024-06-04 00:45:15,952] A new study created in memory with name: no-name-31267421-47b6-4618-a6a7-04340a34d402\n"
     ]
    },
    {
     "name": "stdout",
     "output_type": "stream",
     "text": [
      "Fold 1:\n",
      "  X_train shape: (892, 256, 256)\n",
      "  y_train shape: (892,)\n",
      "  X_val shape: (447, 256, 256)\n",
      "  y_val shape: (447,)\n"
     ]
    },
    {
     "name": "stderr",
     "output_type": "stream",
     "text": [
      "Training fold 1: 100%|██████████| 20/20 [03:08<00:00,  9.43s/it]\n"
     ]
    },
    {
     "name": "stdout",
     "output_type": "stream",
     "text": [
      "  Results for fold 1:\n",
      "    Accuracy: 0.6823266219239373\n",
      "    Precision: 0.6609245071475287\n",
      "    Recall: 0.645976353928299\n",
      "    F1 Score: 0.6493923994697305\n",
      "Fold 2:\n",
      "  X_train shape: (893, 256, 256)\n",
      "  y_train shape: (893,)\n",
      "  X_val shape: (446, 256, 256)\n",
      "  y_val shape: (446,)\n"
     ]
    },
    {
     "name": "stderr",
     "output_type": "stream",
     "text": [
      "Training fold 2: 100%|██████████| 20/20 [03:03<00:00,  9.17s/it]\n",
      "/home/erkkit/nnw/lib/python3.10/site-packages/sklearn/metrics/_classification.py:1517: UndefinedMetricWarning: Precision is ill-defined and being set to 0.0 in labels with no predicted samples. Use `zero_division` parameter to control this behavior.\n",
      "  _warn_prf(average, modifier, f\"{metric.capitalize()} is\", len(result))\n"
     ]
    },
    {
     "name": "stdout",
     "output_type": "stream",
     "text": [
      "  Results for fold 2:\n",
      "    Accuracy: 0.6322869955156951\n",
      "    Precision: 0.31614349775784756\n",
      "    Recall: 0.5\n",
      "    F1 Score: 0.3873626373626374\n",
      "Fold 3:\n",
      "  X_train shape: (893, 256, 256)\n",
      "  y_train shape: (893,)\n",
      "  X_val shape: (446, 256, 256)\n",
      "  y_val shape: (446,)\n"
     ]
    },
    {
     "name": "stderr",
     "output_type": "stream",
     "text": [
      "Training fold 3: 100%|██████████| 20/20 [03:10<00:00,  9.52s/it]\n",
      "/home/erkkit/nnw/lib/python3.10/site-packages/sklearn/metrics/_classification.py:1517: UndefinedMetricWarning: Precision is ill-defined and being set to 0.0 in labels with no predicted samples. Use `zero_division` parameter to control this behavior.\n",
      "  _warn_prf(average, modifier, f\"{metric.capitalize()} is\", len(result))\n",
      "[I 2024-06-04 00:54:47,637] Trial 0 finished with value: 0.47747299782397806 and parameters: {'conv1_filters': 16, 'conv2_filters': 32, 'conv3_filters': 128, 'fc1_units': 64, 'dropout_rate': 0.3}. Best is trial 0 with value: 0.47747299782397806.\n"
     ]
    },
    {
     "name": "stdout",
     "output_type": "stream",
     "text": [
      "  Results for fold 3:\n",
      "    Accuracy: 0.6547085201793722\n",
      "    Precision: 0.3273542600896861\n",
      "    Recall: 0.5\n",
      "    F1 Score: 0.3956639566395664\n",
      "Average results across all folds:\n",
      "  Accuracy: 0.6564407125396682\n",
      "  Precision: 0.4348074216650208\n",
      "  Recall: 0.5486587846427663\n",
      "  F1 Score: 0.47747299782397806\n",
      "Fold 1:\n",
      "  X_train shape: (892, 256, 256)\n",
      "  y_train shape: (892,)\n",
      "  X_val shape: (447, 256, 256)\n",
      "  y_val shape: (447,)\n"
     ]
    },
    {
     "name": "stderr",
     "output_type": "stream",
     "text": [
      "Training fold 1: 100%|██████████| 20/20 [13:17<00:00, 39.86s/it]\n"
     ]
    },
    {
     "name": "stdout",
     "output_type": "stream",
     "text": [
      "  Results for fold 1:\n",
      "    Accuracy: 0.6442953020134228\n",
      "    Precision: 0.6140790128921596\n",
      "    Recall: 0.587369692346809\n",
      "    F1 Score: 0.5841471192271911\n",
      "Fold 2:\n",
      "  X_train shape: (893, 256, 256)\n",
      "  y_train shape: (893,)\n",
      "  X_val shape: (446, 256, 256)\n",
      "  y_val shape: (446,)\n"
     ]
    },
    {
     "name": "stderr",
     "output_type": "stream",
     "text": [
      "Training fold 2: 100%|██████████| 20/20 [13:10<00:00, 39.52s/it]\n"
     ]
    },
    {
     "name": "stdout",
     "output_type": "stream",
     "text": [
      "  Results for fold 2:\n",
      "    Accuracy: 0.6502242152466368\n",
      "    Precision: 0.6143105158730159\n",
      "    Recall: 0.5996583636049126\n",
      "    F1 Score: 0.6014663764463283\n",
      "Fold 3:\n",
      "  X_train shape: (893, 256, 256)\n",
      "  y_train shape: (893,)\n",
      "  X_val shape: (446, 256, 256)\n",
      "  y_val shape: (446,)\n"
     ]
    },
    {
     "name": "stderr",
     "output_type": "stream",
     "text": [
      "Training fold 3: 100%|██████████| 20/20 [13:16<00:00, 39.85s/it]\n",
      "[I 2024-06-04 01:34:54,480] Trial 1 finished with value: 0.5851593978755956 and parameters: {'conv1_filters': 48, 'conv2_filters': 128, 'conv3_filters': 256, 'fc1_units': 64, 'dropout_rate': 0.3}. Best is trial 1 with value: 0.5851593978755956.\n"
     ]
    },
    {
     "name": "stdout",
     "output_type": "stream",
     "text": [
      "  Results for fold 3:\n",
      "    Accuracy: 0.6165919282511211\n",
      "    Precision: 0.5711879940428457\n",
      "    Recall: 0.5690935776552215\n",
      "    F1 Score: 0.5698646979532674\n",
      "Average results across all folds:\n",
      "  Accuracy: 0.6370371485037268\n",
      "  Precision: 0.5998591742693404\n",
      "  Recall: 0.5853738778689811\n",
      "  F1 Score: 0.5851593978755956\n",
      "Fold 1:\n",
      "  X_train shape: (892, 256, 256)\n",
      "  y_train shape: (892,)\n",
      "  X_val shape: (447, 256, 256)\n",
      "  y_val shape: (447,)\n"
     ]
    },
    {
     "name": "stderr",
     "output_type": "stream",
     "text": [
      "Training fold 1: 100%|██████████| 20/20 [04:56<00:00, 14.83s/it]\n"
     ]
    },
    {
     "name": "stdout",
     "output_type": "stream",
     "text": [
      "  Results for fold 1:\n",
      "    Accuracy: 0.6577181208053692\n",
      "    Precision: 0.7147213855421687\n",
      "    Recall: 0.5604182557843885\n",
      "    F1 Score: 0.5124435921381877\n",
      "Fold 2:\n",
      "  X_train shape: (893, 256, 256)\n",
      "  y_train shape: (893,)\n",
      "  X_val shape: (446, 256, 256)\n",
      "  y_val shape: (446,)\n"
     ]
    },
    {
     "name": "stderr",
     "output_type": "stream",
     "text": [
      "Training fold 2: 100%|██████████| 20/20 [04:55<00:00, 14.79s/it]\n"
     ]
    },
    {
     "name": "stdout",
     "output_type": "stream",
     "text": [
      "  Results for fold 2:\n",
      "    Accuracy: 0.6569506726457399\n",
      "    Precision: 0.6393377059670453\n",
      "    Recall: 0.5564997405293202\n",
      "    F1 Score: 0.5251059565317243\n",
      "Fold 3:\n",
      "  X_train shape: (893, 256, 256)\n",
      "  y_train shape: (893,)\n",
      "  X_val shape: (446, 256, 256)\n",
      "  y_val shape: (446,)\n"
     ]
    },
    {
     "name": "stderr",
     "output_type": "stream",
     "text": [
      "Training fold 3: 100%|██████████| 20/20 [05:00<00:00, 15.01s/it]\n",
      "[I 2024-06-04 01:49:55,489] Trial 2 finished with value: 0.5311829884365433 and parameters: {'conv1_filters': 16, 'conv2_filters': 96, 'conv3_filters': 64, 'fc1_units': 192, 'dropout_rate': 0.7}. Best is trial 1 with value: 0.5851593978755956.\n"
     ]
    },
    {
     "name": "stdout",
     "output_type": "stream",
     "text": [
      "  Results for fold 3:\n",
      "    Accuracy: 0.647982062780269\n",
      "    Precision: 0.5861108488339156\n",
      "    Recall: 0.5608432663227184\n",
      "    F1 Score: 0.555999416639718\n",
      "Average results across all folds:\n",
      "  Accuracy: 0.654216952077126\n",
      "  Precision: 0.6467233134477098\n",
      "  Recall: 0.5592537542121424\n",
      "  F1 Score: 0.5311829884365433\n",
      "Fold 1:\n",
      "  X_train shape: (892, 256, 256)\n",
      "  y_train shape: (892,)\n",
      "  X_val shape: (447, 256, 256)\n",
      "  y_val shape: (447,)\n"
     ]
    },
    {
     "name": "stderr",
     "output_type": "stream",
     "text": [
      "Training fold 1: 100%|██████████| 20/20 [11:54<00:00, 35.75s/it]\n"
     ]
    },
    {
     "name": "stdout",
     "output_type": "stream",
     "text": [
      "  Results for fold 1:\n",
      "    Accuracy: 0.668903803131991\n",
      "    Precision: 0.6488484985324001\n",
      "    Recall: 0.6117467581998475\n",
      "    F1 Score: 0.6105721685895926\n",
      "Fold 2:\n",
      "  X_train shape: (893, 256, 256)\n",
      "  y_train shape: (893,)\n",
      "  X_val shape: (446, 256, 256)\n",
      "  y_val shape: (446,)\n"
     ]
    },
    {
     "name": "stderr",
     "output_type": "stream",
     "text": [
      "Training fold 2: 100%|██████████| 20/20 [11:48<00:00, 35.42s/it]\n"
     ]
    },
    {
     "name": "stdout",
     "output_type": "stream",
     "text": [
      "  Results for fold 2:\n",
      "    Accuracy: 0.6434977578475336\n",
      "    Precision: 0.599550763701707\n",
      "    Recall: 0.5598944819235426\n",
      "    F1 Score: 0.5456182280687141\n",
      "Fold 3:\n",
      "  X_train shape: (893, 256, 256)\n",
      "  y_train shape: (893,)\n",
      "  X_val shape: (446, 256, 256)\n",
      "  y_val shape: (446,)\n"
     ]
    },
    {
     "name": "stderr",
     "output_type": "stream",
     "text": [
      "Training fold 3: 100%|██████████| 20/20 [11:39<00:00, 34.99s/it]\n",
      "/home/erkkit/nnw/lib/python3.10/site-packages/sklearn/metrics/_classification.py:1517: UndefinedMetricWarning: Precision is ill-defined and being set to 0.0 in labels with no predicted samples. Use `zero_division` parameter to control this behavior.\n",
      "  _warn_prf(average, modifier, f\"{metric.capitalize()} is\", len(result))\n",
      "[I 2024-06-04 02:25:38,763] Trial 3 finished with value: 0.5172847844326244 and parameters: {'conv1_filters': 48, 'conv2_filters': 128, 'conv3_filters': 192, 'fc1_units': 64, 'dropout_rate': 0.6000000000000001}. Best is trial 1 with value: 0.5851593978755956.\n"
     ]
    },
    {
     "name": "stdout",
     "output_type": "stream",
     "text": [
      "  Results for fold 3:\n",
      "    Accuracy: 0.6547085201793722\n",
      "    Precision: 0.3273542600896861\n",
      "    Recall: 0.5\n",
      "    F1 Score: 0.3956639566395664\n",
      "Average results across all folds:\n",
      "  Accuracy: 0.655703360386299\n",
      "  Precision: 0.5252511741079311\n",
      "  Recall: 0.5572137467077968\n",
      "  F1 Score: 0.5172847844326244\n",
      "Fold 1:\n",
      "  X_train shape: (892, 256, 256)\n",
      "  y_train shape: (892,)\n",
      "  X_val shape: (447, 256, 256)\n",
      "  y_val shape: (447,)\n"
     ]
    },
    {
     "name": "stderr",
     "output_type": "stream",
     "text": [
      "Training fold 1: 100%|██████████| 20/20 [13:34<00:00, 40.70s/it]\n"
     ]
    },
    {
     "name": "stdout",
     "output_type": "stream",
     "text": [
      "  Results for fold 1:\n",
      "    Accuracy: 0.6353467561521253\n",
      "    Precision: 0.6048340548340548\n",
      "    Recall: 0.5923595219933893\n",
      "    F1 Score: 0.5931212410581159\n",
      "Fold 2:\n",
      "  X_train shape: (893, 256, 256)\n",
      "  y_train shape: (893,)\n",
      "  X_val shape: (446, 256, 256)\n",
      "  y_val shape: (446,)\n"
     ]
    },
    {
     "name": "stderr",
     "output_type": "stream",
     "text": [
      "Training fold 2: 100%|██████████| 20/20 [13:12<00:00, 39.62s/it]\n"
     ]
    },
    {
     "name": "stdout",
     "output_type": "stream",
     "text": [
      "  Results for fold 2:\n",
      "    Accuracy: 0.647982062780269\n",
      "    Precision: 0.6083088954056696\n",
      "    Recall: 0.5838522746929597\n",
      "    F1 Score: 0.5821752283888368\n",
      "Fold 3:\n",
      "  X_train shape: (893, 256, 256)\n",
      "  y_train shape: (893,)\n",
      "  X_val shape: (446, 256, 256)\n",
      "  y_val shape: (446,)\n"
     ]
    },
    {
     "name": "stderr",
     "output_type": "stream",
     "text": [
      "Training fold 3: 100%|██████████| 20/20 [13:32<00:00, 40.62s/it]\n",
      "[I 2024-06-04 03:06:18,280] Trial 4 finished with value: 0.5975698740959969 and parameters: {'conv1_filters': 48, 'conv2_filters': 128, 'conv3_filters': 192, 'fc1_units': 256, 'dropout_rate': 0.3}. Best is trial 4 with value: 0.5975698740959969.\n"
     ]
    },
    {
     "name": "stdout",
     "output_type": "stream",
     "text": [
      "  Results for fold 3:\n",
      "    Accuracy: 0.6524663677130045\n",
      "    Precision: 0.6169197540387454\n",
      "    Recall: 0.6179727806440135\n",
      "    F1 Score: 0.617413152841038\n",
      "Average results across all folds:\n",
      "  Accuracy: 0.6452650622151329\n",
      "  Precision: 0.6100209014261566\n",
      "  Recall: 0.5980615257767875\n",
      "  F1 Score: 0.5975698740959969\n",
      "Fold 1:\n",
      "  X_train shape: (892, 256, 256)\n",
      "  y_train shape: (892,)\n",
      "  X_val shape: (447, 256, 256)\n",
      "  y_val shape: (447,)\n"
     ]
    },
    {
     "name": "stderr",
     "output_type": "stream",
     "text": [
      "Training fold 1: 100%|██████████| 20/20 [10:37<00:00, 31.89s/it]\n"
     ]
    },
    {
     "name": "stdout",
     "output_type": "stream",
     "text": [
      "  Results for fold 1:\n",
      "    Accuracy: 0.6554809843400448\n",
      "    Precision: 0.6286822491507378\n",
      "    Recall: 0.6075514874141876\n",
      "    F1 Score: 0.6083943931188276\n",
      "Fold 2:\n",
      "  X_train shape: (893, 256, 256)\n",
      "  y_train shape: (893,)\n",
      "  X_val shape: (446, 256, 256)\n",
      "  y_val shape: (446,)\n"
     ]
    },
    {
     "name": "stderr",
     "output_type": "stream",
     "text": [
      "Training fold 2: 100%|██████████| 20/20 [10:39<00:00, 31.98s/it]\n"
     ]
    },
    {
     "name": "stdout",
     "output_type": "stream",
     "text": [
      "  Results for fold 2:\n",
      "    Accuracy: 0.6771300448430493\n",
      "    Precision: 0.6493103055175559\n",
      "    Recall: 0.6132805742951046\n",
      "    F1 Score: 0.6143073338297821\n",
      "Fold 3:\n",
      "  X_train shape: (893, 256, 256)\n",
      "  y_train shape: (893,)\n",
      "  X_val shape: (446, 256, 256)\n",
      "  y_val shape: (446,)\n"
     ]
    },
    {
     "name": "stderr",
     "output_type": "stream",
     "text": [
      "Training fold 3: 100%|██████████| 20/20 [10:46<00:00, 32.31s/it]\n",
      "[I 2024-06-04 03:38:39,289] Trial 5 finished with value: 0.595002063966283 and parameters: {'conv1_filters': 48, 'conv2_filters': 96, 'conv3_filters': 192, 'fc1_units': 128, 'dropout_rate': 0.7}. Best is trial 4 with value: 0.5975698740959969.\n"
     ]
    },
    {
     "name": "stdout",
     "output_type": "stream",
     "text": [
      "  Results for fold 3:\n",
      "    Accuracy: 0.6659192825112108\n",
      "    Precision: 0.6130278526504942\n",
      "    Recall: 0.5699386230208148\n",
      "    F1 Score: 0.5623044649502394\n",
      "Average results across all folds:\n",
      "  Accuracy: 0.6661767705647683\n",
      "  Precision: 0.6303401357729294\n",
      "  Recall: 0.5969235615767023\n",
      "  F1 Score: 0.595002063966283\n",
      "Fold 1:\n",
      "  X_train shape: (892, 256, 256)\n",
      "  y_train shape: (892,)\n",
      "  X_val shape: (447, 256, 256)\n",
      "  y_val shape: (447,)\n"
     ]
    },
    {
     "name": "stderr",
     "output_type": "stream",
     "text": [
      "Training fold 1: 100%|██████████| 20/20 [13:36<00:00, 40.83s/it]\n"
     ]
    },
    {
     "name": "stdout",
     "output_type": "stream",
     "text": [
      "  Results for fold 1:\n",
      "    Accuracy: 0.6554809843400448\n",
      "    Precision: 0.6506421457277651\n",
      "    Recall: 0.5730676328502415\n",
      "    F1 Score: 0.5492535358826611\n",
      "Fold 2:\n",
      "  X_train shape: (893, 256, 256)\n",
      "  y_train shape: (893,)\n",
      "  X_val shape: (446, 256, 256)\n",
      "  y_val shape: (446,)\n"
     ]
    },
    {
     "name": "stderr",
     "output_type": "stream",
     "text": [
      "Training fold 2: 100%|██████████| 20/20 [13:39<00:00, 40.96s/it]\n"
     ]
    },
    {
     "name": "stdout",
     "output_type": "stream",
     "text": [
      "  Results for fold 2:\n",
      "    Accuracy: 0.625560538116592\n",
      "    Precision: 0.5862139373994091\n",
      "    Recall: 0.5776033558207923\n",
      "    F1 Score: 0.5785190844014374\n",
      "Fold 3:\n",
      "  X_train shape: (893, 256, 256)\n",
      "  y_train shape: (893,)\n",
      "  X_val shape: (446, 256, 256)\n",
      "  y_val shape: (446,)\n"
     ]
    },
    {
     "name": "stderr",
     "output_type": "stream",
     "text": [
      "Training fold 3: 100%|██████████| 20/20 [13:50<00:00, 41.52s/it]\n",
      "[I 2024-06-04 04:20:05,587] Trial 6 finished with value: 0.5698394968735243 and parameters: {'conv1_filters': 32, 'conv2_filters': 128, 'conv3_filters': 256, 'fc1_units': 256, 'dropout_rate': 0.7}. Best is trial 4 with value: 0.5975698740959969.\n"
     ]
    },
    {
     "name": "stdout",
     "output_type": "stream",
     "text": [
      "  Results for fold 3:\n",
      "    Accuracy: 0.6278026905829597\n",
      "    Precision: 0.5834713024282561\n",
      "    Recall: 0.5807240704500979\n",
      "    F1 Score: 0.5817458703364744\n",
      "Average results across all folds:\n",
      "  Accuracy: 0.6362814043465321\n",
      "  Precision: 0.6067757951851435\n",
      "  Recall: 0.5771316863737105\n",
      "  F1 Score: 0.5698394968735243\n",
      "Fold 1:\n",
      "  X_train shape: (892, 256, 256)\n",
      "  y_train shape: (892,)\n",
      "  X_val shape: (447, 256, 256)\n",
      "  y_val shape: (447,)\n"
     ]
    },
    {
     "name": "stderr",
     "output_type": "stream",
     "text": [
      "Training fold 1: 100%|██████████| 20/20 [05:22<00:00, 16.12s/it]\n"
     ]
    },
    {
     "name": "stdout",
     "output_type": "stream",
     "text": [
      "  Results for fold 1:\n",
      "    Accuracy: 0.668903803131991\n",
      "    Precision: 0.6461149961149961\n",
      "    Recall: 0.6195334350368675\n",
      "    F1 Score: 0.6209433443344334\n",
      "Fold 2:\n",
      "  X_train shape: (893, 256, 256)\n",
      "  y_train shape: (893,)\n",
      "  X_val shape: (446, 256, 256)\n",
      "  y_val shape: (446,)\n"
     ]
    },
    {
     "name": "stderr",
     "output_type": "stream",
     "text": [
      "Training fold 2: 100%|██████████| 20/20 [05:38<00:00, 16.91s/it]\n",
      "/home/erkkit/nnw/lib/python3.10/site-packages/sklearn/metrics/_classification.py:1517: UndefinedMetricWarning: Precision is ill-defined and being set to 0.0 in labels with no predicted samples. Use `zero_division` parameter to control this behavior.\n",
      "  _warn_prf(average, modifier, f\"{metric.capitalize()} is\", len(result))\n"
     ]
    },
    {
     "name": "stdout",
     "output_type": "stream",
     "text": [
      "  Results for fold 2:\n",
      "    Accuracy: 0.6322869955156951\n",
      "    Precision: 0.31614349775784756\n",
      "    Recall: 0.5\n",
      "    F1 Score: 0.3873626373626374\n",
      "Fold 3:\n",
      "  X_train shape: (893, 256, 256)\n",
      "  y_train shape: (893,)\n",
      "  X_val shape: (446, 256, 256)\n",
      "  y_val shape: (446,)\n"
     ]
    },
    {
     "name": "stderr",
     "output_type": "stream",
     "text": [
      "Training fold 3: 100%|██████████| 20/20 [05:43<00:00, 17.20s/it]\n",
      "[I 2024-06-04 04:36:57,760] Trial 7 finished with value: 0.5456021187429686 and parameters: {'conv1_filters': 16, 'conv2_filters': 32, 'conv3_filters': 256, 'fc1_units': 128, 'dropout_rate': 0.7}. Best is trial 4 with value: 0.5975698740959969.\n"
     ]
    },
    {
     "name": "stdout",
     "output_type": "stream",
     "text": [
      "  Results for fold 3:\n",
      "    Accuracy: 0.6883408071748879\n",
      "    Precision: 0.6480507055728295\n",
      "    Recall: 0.6238880982031667\n",
      "    F1 Score: 0.6285003745318352\n",
      "Average results across all folds:\n",
      "  Accuracy: 0.663177201940858\n",
      "  Precision: 0.5367697331485578\n",
      "  Recall: 0.5811405110800114\n",
      "  F1 Score: 0.5456021187429686\n",
      "Fold 1:\n",
      "  X_train shape: (892, 256, 256)\n",
      "  y_train shape: (892,)\n",
      "  X_val shape: (447, 256, 256)\n",
      "  y_val shape: (447,)\n"
     ]
    },
    {
     "name": "stderr",
     "output_type": "stream",
     "text": [
      "Training fold 1: 100%|██████████| 20/20 [08:13<00:00, 24.67s/it]\n"
     ]
    },
    {
     "name": "stdout",
     "output_type": "stream",
     "text": [
      "  Results for fold 1:\n",
      "    Accuracy: 0.610738255033557\n",
      "    Precision: 0.5845024540676714\n",
      "    Recall: 0.5824434274091025\n",
      "    F1 Score: 0.5831475367662822\n",
      "Fold 2:\n",
      "  X_train shape: (893, 256, 256)\n",
      "  y_train shape: (893,)\n",
      "  X_val shape: (446, 256, 256)\n",
      "  y_val shape: (446,)\n"
     ]
    },
    {
     "name": "stderr",
     "output_type": "stream",
     "text": [
      "Training fold 2: 100%|██████████| 20/20 [08:12<00:00, 24.63s/it]\n"
     ]
    },
    {
     "name": "stdout",
     "output_type": "stream",
     "text": [
      "  Results for fold 2:\n",
      "    Accuracy: 0.600896860986547\n",
      "    Precision: 0.5654090583601862\n",
      "    Recall: 0.5632027330911606\n",
      "    F1 Score: 0.5638405414908579\n",
      "Fold 3:\n",
      "  X_train shape: (893, 256, 256)\n",
      "  y_train shape: (893,)\n",
      "  X_val shape: (446, 256, 256)\n",
      "  y_val shape: (446,)\n"
     ]
    },
    {
     "name": "stderr",
     "output_type": "stream",
     "text": [
      "Training fold 3: 100%|██████████| 20/20 [08:08<00:00, 24.42s/it]\n",
      "[I 2024-06-04 05:01:44,048] Trial 8 finished with value: 0.5624139802619614 and parameters: {'conv1_filters': 16, 'conv2_filters': 96, 'conv3_filters': 192, 'fc1_units': 192, 'dropout_rate': 0.3}. Best is trial 4 with value: 0.5975698740959969.\n"
     ]
    },
    {
     "name": "stdout",
     "output_type": "stream",
     "text": [
      "  Results for fold 3:\n",
      "    Accuracy: 0.6210762331838565\n",
      "    Precision: 0.5544616673648931\n",
      "    Recall: 0.5433641700764988\n",
      "    F1 Score: 0.5402538625287441\n",
      "Average results across all folds:\n",
      "  Accuracy: 0.6109037830679869\n",
      "  Precision: 0.5681243932642502\n",
      "  Recall: 0.5630034435255873\n",
      "  F1 Score: 0.5624139802619614\n",
      "Fold 1:\n",
      "  X_train shape: (892, 256, 256)\n",
      "  y_train shape: (892,)\n",
      "  X_val shape: (447, 256, 256)\n",
      "  y_val shape: (447,)\n"
     ]
    },
    {
     "name": "stderr",
     "output_type": "stream",
     "text": [
      "Training fold 1: 100%|██████████| 20/20 [09:22<00:00, 28.15s/it]\n"
     ]
    },
    {
     "name": "stdout",
     "output_type": "stream",
     "text": [
      "  Results for fold 1:\n",
      "    Accuracy: 0.5637583892617449\n",
      "    Precision: 0.5640214606021781\n",
      "    Recall: 0.5677599796592931\n",
      "    F1 Score: 0.5577737753988992\n",
      "Fold 2:\n",
      "  X_train shape: (893, 256, 256)\n",
      "  y_train shape: (893,)\n",
      "  X_val shape: (446, 256, 256)\n",
      "  y_val shape: (446,)\n"
     ]
    },
    {
     "name": "stderr",
     "output_type": "stream",
     "text": [
      "Training fold 2: 100%|██████████| 20/20 [09:26<00:00, 28.35s/it]\n"
     ]
    },
    {
     "name": "stdout",
     "output_type": "stream",
     "text": [
      "  Results for fold 2:\n",
      "    Accuracy: 0.6457399103139013\n",
      "    Precision: 0.6218596163639449\n",
      "    Recall: 0.6241783428472583\n",
      "    F1 Score: 0.6227946214457005\n",
      "Fold 3:\n",
      "  X_train shape: (893, 256, 256)\n",
      "  y_train shape: (893,)\n",
      "  X_val shape: (446, 256, 256)\n",
      "  y_val shape: (446,)\n"
     ]
    },
    {
     "name": "stderr",
     "output_type": "stream",
     "text": [
      "Training fold 3: 100%|██████████| 20/20 [09:29<00:00, 28.49s/it]\n",
      "[I 2024-06-04 05:30:19,491] Trial 9 finished with value: 0.5696913408193771 and parameters: {'conv1_filters': 32, 'conv2_filters': 96, 'conv3_filters': 256, 'fc1_units': 64, 'dropout_rate': 0.4}. Best is trial 4 with value: 0.5975698740959969.\n"
     ]
    },
    {
     "name": "stdout",
     "output_type": "stream",
     "text": [
      "  Results for fold 3:\n",
      "    Accuracy: 0.6233183856502242\n",
      "    Precision: 0.5495271432080571\n",
      "    Recall: 0.5358699519658424\n",
      "    F1 Score: 0.5285056256135316\n",
      "Average results across all folds:\n",
      "  Accuracy: 0.6109388950752902\n",
      "  Precision: 0.5784694067247267\n",
      "  Recall: 0.5759360914907979\n",
      "  F1 Score: 0.5696913408193771\n",
      "Best trial: [0.5975698740959969]\n",
      "Best hyperparameters: {'conv1_filters': 48, 'conv2_filters': 128, 'conv3_filters': 192, 'fc1_units': 256, 'dropout_rate': 0.3}\n"
     ]
    },
    {
     "ename": "",
     "evalue": "",
     "output_type": "error",
     "traceback": [
      "\u001b[1;31mThe Kernel crashed while executing code in the current cell or a previous cell. \n",
      "\u001b[1;31mPlease review the code in the cell(s) to identify a possible cause of the failure. \n",
      "\u001b[1;31mClick <a href='https://aka.ms/vscodeJupyterKernelCrash'>here</a> for more info. \n",
      "\u001b[1;31mView Jupyter <a href='command:jupyter.viewOutput'>log</a> for further details."
     ]
    }
   ],
   "source": [
    "# BLOCK 7\n",
    "\n",
    "study = optuna.create_study(direction='maximize')\n",
    "study.optimize(objective, n_trials=10)\n",
    "\n",
    "best_trial = study.best_trial\n",
    "print(f\"Best trial: {best_trial.values}\")\n",
    "print(f\"Best hyperparameters: {best_trial.params}\")\n",
    "\n"
   ]
  },
  {
   "cell_type": "code",
   "execution_count": 8,
   "metadata": {},
   "outputs": [
    {
     "name": "stdout",
     "output_type": "stream",
     "text": [
      "Training with 7 folds\n",
      "Starting new fold\n"
     ]
    },
    {
     "ename": "",
     "evalue": "",
     "output_type": "error",
     "traceback": [
      "\u001b[1;31mThe Kernel crashed while executing code in the current cell or a previous cell. \n",
      "\u001b[1;31mPlease review the code in the cell(s) to identify a possible cause of the failure. \n",
      "\u001b[1;31mClick <a href='https://aka.ms/vscodeJupyterKernelCrash'>here</a> for more info. \n",
      "\u001b[1;31mView Jupyter <a href='command:jupyter.viewOutput'>log</a> for further details."
     ]
    }
   ],
   "source": [
    "# BLOCK 8\n",
    "\n",
    "# best_hyperparameters = best_trial.params\n",
    "# best_model, results = train_and_evaluate(X_train_full, y_train_full, fold_count=7, **best_hyperparameters)\n",
    "# def train_and_evaluate(X, y, fold_count=7, conv1_filters=32, conv2_filters=64, conv3_filters=128, fc1_units=128, dropout_rate=0.5):\n",
    "best_model, results = train_and_evaluate(X_train_full, y_train_full, fold_count=7, conv1_filters=48, conv2_filters=64, conv3_filters=128, fc1_units=128, dropout_rate=0.3)\n",
    "# best_model, results = train_and_evaluate(X_train_sample, y_train_sample, fold_count=7, conv1_filters=48, conv2_filters=64, conv3_filters=128, fc1_units=128, dropout_rate=0.3)\n",
    "\n",
    "\n",
    "avg_results = np.mean(results, axis=0)\n",
    "print(\"Final training with best hyperparameters:\")\n",
    "print(f\"  Accuracy: {avg_results[0]}\")\n",
    "print(f\"  Precision: {avg_results[1]}\")\n",
    "print(f\"  Recall: {avg_results[2]}\")\n",
    "print(f\"  F1 Score: {avg_results[3]}\")\n",
    "\n",
    "now = datetime.now()\n",
    "timestamp = now.strftime(\"%Y%m%d_%H%M%S\")\n",
    "filename = f\"best_simple_images_cnn_model_{timestamp}.pth\"\n",
    "print(f\"Model will be saved as: {filename}\")\n",
    "\n",
    "if best_model is not None:\n",
    "    torch.save(best_model, filename)\n",
    "    print(f\"Best model saved to '{filename}'.\")"
   ]
  },
  {
   "cell_type": "code",
   "execution_count": 8,
   "metadata": {},
   "outputs": [
    {
     "name": "stdout",
     "output_type": "stream",
     "text": [
      "Test set evaluation results:\n",
      "  Accuracy: 0.917797717571217\n",
      "  Precision: 0.9134568367293017\n",
      "  Recall: 0.9055249910166071\n",
      "  F1 Score: 0.9092475604292138\n"
     ]
    },
    {
     "data": {
      "text/plain": [
       "(0.917797717571217, 0.9134568367293017, 0.9055249910166071, 0.9092475604292138)"
      ]
     },
     "execution_count": 8,
     "metadata": {},
     "output_type": "execute_result"
    }
   ],
   "source": [
    "# BLOCK 9 - Testing the model on the test set\n",
    "\n",
    "def evaluate_model_on_test_set(model, X_test, y_test):\n",
    "    model.eval()\n",
    "    with torch.no_grad():\n",
    "        test_predictions = []\n",
    "        test_true = []\n",
    "        for inputs, labels in DataLoader(TensorDataset(X_test, y_test), batch_size=16, shuffle=False):\n",
    "            outputs = model(inputs)\n",
    "            _, predicted = torch.max(outputs.data, 1)\n",
    "            test_predictions.extend(predicted.numpy())\n",
    "            test_true.extend(labels.numpy())\n",
    "\n",
    "    accuracy = accuracy_score(test_true, test_predictions)\n",
    "    precision = precision_score(test_true, test_predictions, average='macro')\n",
    "    recall = recall_score(test_true, test_predictions, average='macro')\n",
    "    f1 = f1_score(test_true, test_predictions, average='macro')\n",
    "\n",
    "    print(\"Test set evaluation results:\")\n",
    "    print(f\"  Accuracy: {accuracy}\")\n",
    "    print(f\"  Precision: {precision}\")\n",
    "    print(f\"  Recall: {recall}\")\n",
    "    print(f\"  F1 Score: {f1}\")\n",
    "\n",
    "    return accuracy, precision, recall, f1\n",
    "\n",
    "# Prepare the test data\n",
    "X_test_tensor = torch.tensor(X_test_full, dtype=torch.float32).permute(0, 2, 1).unsqueeze(3)\n",
    "y_test_tensor = torch.tensor(y_test_full, dtype=torch.long)\n",
    "\n",
    "# Load the best model\n",
    "model = CNNModel(**best_hyperparameters)\n",
    "model.load_state_dict(torch.load(filename))\n",
    "\n",
    "# Evaluate the model on the test set\n",
    "evaluate_model_on_test_set(model, X_test_tensor, y_test_tensor)\n"
   ]
  }
 ],
 "metadata": {
  "kernelspec": {
   "display_name": "nnw",
   "language": "python",
   "name": "python3"
  },
  "language_info": {
   "codemirror_mode": {
    "name": "ipython",
    "version": 3
   },
   "file_extension": ".py",
   "mimetype": "text/x-python",
   "name": "python",
   "nbconvert_exporter": "python",
   "pygments_lexer": "ipython3",
   "version": "3.10.12"
  }
 },
 "nbformat": 4,
 "nbformat_minor": 2
}
