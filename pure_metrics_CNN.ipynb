{
 "cells": [
  {
   "cell_type": "code",
   "execution_count": 1,
   "metadata": {},
   "outputs": [
    {
     "name": "stderr",
     "output_type": "stream",
     "text": [
      "/home/erkkit/nnw/lib/python3.10/site-packages/tqdm/auto.py:21: TqdmWarning: IProgress not found. Please update jupyter and ipywidgets. See https://ipywidgets.readthedocs.io/en/stable/user_install.html\n",
      "  from .autonotebook import tqdm as notebook_tqdm\n"
     ]
    }
   ],
   "source": [
    "# BLOCK 1\n",
    "\n",
    "import numpy as np\n",
    "import torch\n",
    "import torch.nn as nn\n",
    "import torch.optim as optim\n",
    "from torch.utils.data import DataLoader, TensorDataset\n",
    "from sklearn.metrics import accuracy_score, precision_score, recall_score, f1_score\n",
    "from sklearn.model_selection import KFold\n",
    "from tqdm import tqdm\n",
    "import os\n",
    "from datetime import datetime\n",
    "import optuna\n"
   ]
  },
  {
   "cell_type": "code",
   "execution_count": 2,
   "metadata": {},
   "outputs": [],
   "source": [
    "# BLOCK 2\n",
    "\n",
    "import numpy as np\n",
    "import os\n",
    "\n",
    "def load_data(directory):\n",
    "    files = [f for f in os.listdir(directory) if f.endswith('.npz')]\n",
    "    metrics_list = []\n",
    "    labels_list = []\n",
    "\n",
    "    for file in sorted(files):\n",
    "        data = np.load(os.path.join(directory, file), allow_pickle=True)\n",
    "        metrics = data['metrics']\n",
    "        labels = data['labels']\n",
    "\n",
    "        probabilities_list = []\n",
    "        entropy_list = []\n",
    "        similarity_list = []\n",
    "        lengths_list = []\n",
    "\n",
    "        for entry in metrics:\n",
    "            probabilities_list.append(entry['probabilities'])\n",
    "            entropy_list.append(entry['entropy'])\n",
    "            similarity_list.append(entry['similarity'])\n",
    "            lengths_list.append(entry['lengths'])\n",
    "\n",
    "        probabilities_array = np.stack(probabilities_list)\n",
    "        entropy_array = np.stack(entropy_list)\n",
    "        similarity_array = np.stack(similarity_list)\n",
    "        lengths_array = np.stack(lengths_list)\n",
    "\n",
    "        combined_metrics = np.stack((probabilities_array, entropy_array, similarity_array, lengths_array), axis=-1)\n",
    "\n",
    "        metrics_list.append(combined_metrics)\n",
    "        labels_list.extend(labels)\n",
    "\n",
    "    metrics_combined = np.concatenate(metrics_list, axis=0)\n",
    "    labels_combined = np.array(labels_list, dtype=np.int32)\n",
    "\n",
    "    return metrics_combined, labels_combined"
   ]
  },
  {
   "cell_type": "code",
   "execution_count": 2,
   "metadata": {},
   "outputs": [],
   "source": [
    "# BLOCK 3\n",
    "\n",
    "import torch\n",
    "import torch.nn as nn\n",
    "import torch.nn.functional as F\n",
    "\n",
    "class CNNModel(nn.Module):\n",
    "    def __init__(self, conv1_filters=32, conv2_filters=64, conv3_filters=128, fc1_units=128, dropout_rate=0.5):\n",
    "        super(CNNModel, self).__init__()\n",
    "        self.conv1 = nn.Conv2d(4, conv1_filters, kernel_size=(5, 1), padding=(2, 0))\n",
    "        self.pool = nn.MaxPool2d((2, 1))\n",
    "        self.conv2 = nn.Conv2d(conv1_filters, conv2_filters, kernel_size=(5, 1), padding=(2, 0))\n",
    "        self.conv3 = nn.Conv2d(conv2_filters, conv3_filters, kernel_size=(5, 1), padding=(2, 0))\n",
    "\n",
    "        final_dim = 256 // (2**3)\n",
    "        self.fc1 = nn.Linear(conv3_filters * final_dim * 1, fc1_units)\n",
    "        self.dropout = nn.Dropout(dropout_rate)\n",
    "        self.fc2 = nn.Linear(fc1_units, 2)\n",
    "\n",
    "    def forward(self, x):\n",
    "        x = self.pool(F.relu(self.conv1(x)))\n",
    "        x = self.pool(F.relu(self.conv2(x)))\n",
    "        x = self.pool(F.relu(self.conv3(x)))\n",
    "        x = x.view(x.size(0), -1)\n",
    "        x = self.dropout(F.relu(self.fc1(x)))\n",
    "        x = self.fc2(x)\n",
    "        return x\n"
   ]
  },
  {
   "cell_type": "code",
   "execution_count": 4,
   "metadata": {},
   "outputs": [],
   "source": [
    "# BLOCK 4\n",
    "\n",
    "from datetime import datetime\n",
    "\n",
    "def train_and_evaluate(X, y, fold_count=7, conv1_filters=32, conv2_filters=64, conv3_filters=128, fc1_units=128, dropout_rate=0.5):\n",
    "    kf = KFold(n_splits=fold_count)\n",
    "    results = []\n",
    "    best_model = None\n",
    "    best_f1 = 0.0\n",
    "\n",
    "    for fold, (train_index, val_index) in enumerate(kf.split(X)):\n",
    "        X_train, X_val = X[train_index], X[val_index]\n",
    "        y_train, y_val = y[train_index], y[val_index]\n",
    "\n",
    "        print(f\"Fold {fold + 1}:\")\n",
    "        print(f\"  X_train shape: {X_train.shape}\")\n",
    "        print(f\"  y_train shape: {y_train.shape}\")\n",
    "        print(f\"  X_val shape: {X_val.shape}\")\n",
    "        print(f\"  y_val shape: {y_val.shape}\")\n",
    "\n",
    "        num_samples_train = X_train.shape[0]\n",
    "        num_samples_val = X_val.shape[0]\n",
    "\n",
    "        X_train_tensor = torch.tensor(X_train, dtype=torch.float32).permute(0, 2, 1).unsqueeze(3)\n",
    "        y_train_tensor = torch.tensor(y_train, dtype=torch.long)\n",
    "        X_val_tensor = torch.tensor(X_val, dtype=torch.float32).permute(0, 2, 1).unsqueeze(3)\n",
    "        y_val_tensor = torch.tensor(y_val, dtype=torch.long)\n",
    "\n",
    "        train_loader = DataLoader(TensorDataset(X_train_tensor, y_train_tensor), batch_size=16, shuffle=True)\n",
    "        val_loader = DataLoader(TensorDataset(X_val_tensor, y_val_tensor), batch_size=16, shuffle=False)\n",
    "\n",
    "        model = CNNModel(conv1_filters, conv2_filters, conv3_filters, fc1_units, dropout_rate)\n",
    "        criterion = nn.CrossEntropyLoss()\n",
    "        optimizer = optim.Adam(model.parameters(), lr=0.001)\n",
    "\n",
    "        model.train()\n",
    "        for epoch in tqdm(range(20), desc=f'Training fold {fold + 1}'):\n",
    "            for inputs, labels in train_loader:\n",
    "                optimizer.zero_grad()\n",
    "                outputs = model(inputs)\n",
    "                loss = criterion(outputs, labels)\n",
    "                loss.backward()\n",
    "                optimizer.step()\n",
    "\n",
    "        model.eval()\n",
    "        with torch.no_grad():\n",
    "            val_predictions = []\n",
    "            val_true = []\n",
    "            for inputs, labels in val_loader:\n",
    "                outputs = model(inputs)\n",
    "                _, predicted = torch.max(outputs.data, 1)\n",
    "                val_predictions.extend(predicted.numpy())\n",
    "                val_true.extend(labels.numpy())\n",
    "\n",
    "        accuracy = accuracy_score(val_true, val_predictions)\n",
    "        precision = precision_score(val_true, val_predictions, average='macro')\n",
    "        recall = recall_score(val_true, val_predictions, average='macro')\n",
    "        f1 = f1_score(val_true, val_predictions, average='macro')\n",
    "\n",
    "        print(f\"  Results for fold {fold + 1}:\")\n",
    "        print(f\"    Accuracy: {accuracy}\")\n",
    "        print(f\"    Precision: {precision}\")\n",
    "        print(f\"    Recall: {recall}\")\n",
    "        print(f\"    F1 Score: {f1}\")\n",
    "        results.append((accuracy, precision, recall, f1))\n",
    "\n",
    "        if f1 > best_f1:\n",
    "            best_f1 = f1\n",
    "            best_model = model.state_dict()\n",
    "\n",
    "    avg_results = np.mean(results, axis=0)\n",
    "    print(\"Average across folds:\")\n",
    "    print(f\"  Accuracy: {avg_results[0]}\")\n",
    "    print(f\"  Precision: {avg_results[1]}\")\n",
    "    print(f\"  Recall: {avg_results[2]}\")\n",
    "    print(f\"  F1 Score: {avg_results[3]}\")\n",
    "    print(\"Training and cross-validation completed.\")\n",
    " \n",
    "    return best_model, results\n",
    "\n"
   ]
  },
  {
   "cell_type": "code",
   "execution_count": 5,
   "metadata": {},
   "outputs": [],
   "source": [
    "# BLOCK 5\n",
    "\n",
    "# Define global variables for the data\n",
    "X_train_sample, y_train_sample = None, None\n",
    "\n",
    "def objective(trial):\n",
    "    conv1_filters = trial.suggest_int('conv1_filters', 16, 64, step=16)\n",
    "    conv2_filters = trial.suggest_int('conv2_filters', 32, 128, step=32)\n",
    "    conv3_filters = trial.suggest_int('conv3_filters', 64, 256, step=64)\n",
    "    fc1_units = trial.suggest_int('fc1_units', 64, 256, step=64)\n",
    "    dropout_rate = trial.suggest_float('dropout_rate', 0.3, 0.7, step=0.1)\n",
    "\n",
    "    best_model, results = train_and_evaluate(X_train_sample, y_train_sample, fold_count=3, conv1_filters=conv1_filters, conv2_filters=conv2_filters, conv3_filters=conv3_filters, fc1_units=fc1_units, dropout_rate=dropout_rate)\n",
    "    avg_f1 = np.mean([result[3] for result in results])\n",
    "    return avg_f1"
   ]
  },
  {
   "cell_type": "code",
   "execution_count": 6,
   "metadata": {},
   "outputs": [],
   "source": [
    "# BLOCK 6\n",
    "\n",
    "# Load data directly from files\n",
    "train_metrics, train_labels = load_data('./npz_results/train')\n",
    "val_metrics, val_labels = load_data('./npz_results/val')\n",
    "test_metrics, test_labels = load_data('./npz_results/test')\n",
    "\n",
    "# Cap the data size to 10% for hyperparameter tuning\n",
    "def sample_data(X, y, sample_fraction=0.1):\n",
    "    sample_size = int(len(X) * sample_fraction)\n",
    "    indices = np.random.choice(len(X), sample_size, replace=False)\n",
    "    return X[indices], y[indices]\n",
    "\n",
    "X_train_sample, y_train_sample = sample_data(train_metrics, train_labels, sample_fraction=0.1)\n",
    "X_val_sample, y_val_sample = sample_data(val_metrics, val_labels, sample_fraction=0.1)\n",
    "X_test_sample, y_test_sample = sample_data(test_metrics, test_labels, sample_fraction=0.1)\n",
    "\n",
    "# Full data for final training\n",
    "X_train_full, y_train_full = train_metrics, train_labels\n",
    "X_val_full, y_val_full = val_metrics, val_labels\n",
    "X_test_full, y_test_full = test_metrics, test_labels\n",
    "\n"
   ]
  },
  {
   "cell_type": "code",
   "execution_count": 7,
   "metadata": {},
   "outputs": [
    {
     "name": "stderr",
     "output_type": "stream",
     "text": [
      "[I 2024-06-01 21:59:57,302] A new study created in memory with name: no-name-1b2fb5af-6825-484b-8f47-740e778f4494\n"
     ]
    },
    {
     "name": "stdout",
     "output_type": "stream",
     "text": [
      "Fold 1:\n",
      "  X_train shape: (17856, 256, 4)\n",
      "  y_train shape: (17856,)\n",
      "  X_val shape: (8928, 256, 4)\n",
      "  y_val shape: (8928,)\n"
     ]
    },
    {
     "name": "stderr",
     "output_type": "stream",
     "text": [
      "Training fold 1: 100%|██████████| 20/20 [04:23<00:00, 13.17s/it]\n",
      "/home/erkkit/nnw/lib/python3.10/site-packages/sklearn/metrics/_classification.py:1517: UndefinedMetricWarning: Precision is ill-defined and being set to 0.0 in labels with no predicted samples. Use `zero_division` parameter to control this behavior.\n",
      "  _warn_prf(average, modifier, f\"{metric.capitalize()} is\", len(result))\n"
     ]
    },
    {
     "name": "stdout",
     "output_type": "stream",
     "text": [
      "  Results for fold 1:\n",
      "    Accuracy: 0.6499775985663082\n",
      "    Precision: 0.3249887992831541\n",
      "    Recall: 0.5\n",
      "    F1 Score: 0.3939311655692078\n",
      "Fold 2:\n",
      "  X_train shape: (17856, 256, 4)\n",
      "  y_train shape: (17856,)\n",
      "  X_val shape: (8928, 256, 4)\n",
      "  y_val shape: (8928,)\n"
     ]
    },
    {
     "name": "stderr",
     "output_type": "stream",
     "text": [
      "Training fold 2: 100%|██████████| 20/20 [04:13<00:00, 12.70s/it]\n"
     ]
    },
    {
     "name": "stdout",
     "output_type": "stream",
     "text": [
      "  Results for fold 2:\n",
      "    Accuracy: 0.8043234767025089\n",
      "    Precision: 0.8052460310906501\n",
      "    Recall: 0.7582391765268947\n",
      "    F1 Score: 0.7717888348622821\n",
      "Fold 3:\n",
      "  X_train shape: (17856, 256, 4)\n",
      "  y_train shape: (17856,)\n",
      "  X_val shape: (8928, 256, 4)\n",
      "  y_val shape: (8928,)\n"
     ]
    },
    {
     "name": "stderr",
     "output_type": "stream",
     "text": [
      "Training fold 3: 100%|██████████| 20/20 [04:09<00:00, 12.50s/it]\n",
      "[I 2024-06-01 22:12:50,541] Trial 0 finished with value: 0.6387370882966455 and parameters: {'conv1_filters': 16, 'conv2_filters': 96, 'conv3_filters': 192, 'fc1_units': 128, 'dropout_rate': 0.6000000000000001}. Best is trial 0 with value: 0.6387370882966455.\n"
     ]
    },
    {
     "name": "stdout",
     "output_type": "stream",
     "text": [
      "  Results for fold 3:\n",
      "    Accuracy: 0.7958109318996416\n",
      "    Precision: 0.8147559607670041\n",
      "    Recall: 0.7339450570498263\n",
      "    F1 Score: 0.7504912644584469\n",
      "Average across folds:\n",
      "  Accuracy: 0.7500373357228195\n",
      "  Precision: 0.6483302637136027\n",
      "  Recall: 0.6640614111922403\n",
      "  F1 Score: 0.6387370882966455\n",
      "Training and cross-validation completed.\n",
      "Fold 1:\n",
      "  X_train shape: (17856, 256, 4)\n",
      "  y_train shape: (17856,)\n",
      "  X_val shape: (8928, 256, 4)\n",
      "  y_val shape: (8928,)\n"
     ]
    },
    {
     "name": "stderr",
     "output_type": "stream",
     "text": [
      "Training fold 1: 100%|██████████| 20/20 [06:43<00:00, 20.19s/it]\n"
     ]
    },
    {
     "name": "stdout",
     "output_type": "stream",
     "text": [
      "  Results for fold 1:\n",
      "    Accuracy: 0.8267249103942652\n",
      "    Precision: 0.8182323359835534\n",
      "    Recall: 0.7922046665517836\n",
      "    F1 Score: 0.802105950966446\n",
      "Fold 2:\n",
      "  X_train shape: (17856, 256, 4)\n",
      "  y_train shape: (17856,)\n",
      "  X_val shape: (8928, 256, 4)\n",
      "  y_val shape: (8928,)\n"
     ]
    },
    {
     "name": "stderr",
     "output_type": "stream",
     "text": [
      "Training fold 2: 100%|██████████| 20/20 [06:41<00:00, 20.07s/it]\n"
     ]
    },
    {
     "name": "stdout",
     "output_type": "stream",
     "text": [
      "  Results for fold 2:\n",
      "    Accuracy: 0.8309811827956989\n",
      "    Precision: 0.8183273648212672\n",
      "    Recall: 0.8101909086706495\n",
      "    F1 Score: 0.8138698049711297\n",
      "Fold 3:\n",
      "  X_train shape: (17856, 256, 4)\n",
      "  y_train shape: (17856,)\n",
      "  X_val shape: (8928, 256, 4)\n",
      "  y_val shape: (8928,)\n"
     ]
    },
    {
     "name": "stderr",
     "output_type": "stream",
     "text": [
      "Training fold 3: 100%|██████████| 20/20 [06:42<00:00, 20.14s/it]\n",
      "[I 2024-06-01 22:33:05,976] Trial 1 finished with value: 0.802904339479538 and parameters: {'conv1_filters': 48, 'conv2_filters': 128, 'conv3_filters': 192, 'fc1_units': 256, 'dropout_rate': 0.5}. Best is trial 1 with value: 0.802904339479538.\n"
     ]
    },
    {
     "name": "stdout",
     "output_type": "stream",
     "text": [
      "  Results for fold 3:\n",
      "    Accuracy: 0.8070116487455197\n",
      "    Precision: 0.7891146949287261\n",
      "    Recall: 0.7976036884012367\n",
      "    F1 Score: 0.7927372625010383\n",
      "Average across folds:\n",
      "  Accuracy: 0.8215725806451614\n",
      "  Precision: 0.8085581319111822\n",
      "  Recall: 0.7999997545412233\n",
      "  F1 Score: 0.802904339479538\n",
      "Training and cross-validation completed.\n",
      "Fold 1:\n",
      "  X_train shape: (17856, 256, 4)\n",
      "  y_train shape: (17856,)\n",
      "  X_val shape: (8928, 256, 4)\n",
      "  y_val shape: (8928,)\n"
     ]
    },
    {
     "name": "stderr",
     "output_type": "stream",
     "text": [
      "Training fold 1: 100%|██████████| 20/20 [04:47<00:00, 14.38s/it]\n"
     ]
    },
    {
     "name": "stdout",
     "output_type": "stream",
     "text": [
      "  Results for fold 1:\n",
      "    Accuracy: 0.8142921146953405\n",
      "    Precision: 0.8096219954649813\n",
      "    Recall: 0.7710481337239359\n",
      "    F1 Score: 0.783818972889863\n",
      "Fold 2:\n",
      "  X_train shape: (17856, 256, 4)\n",
      "  y_train shape: (17856,)\n",
      "  X_val shape: (8928, 256, 4)\n",
      "  y_val shape: (8928,)\n"
     ]
    },
    {
     "name": "stderr",
     "output_type": "stream",
     "text": [
      "Training fold 2: 100%|██████████| 20/20 [04:43<00:00, 14.16s/it]\n"
     ]
    },
    {
     "name": "stdout",
     "output_type": "stream",
     "text": [
      "  Results for fold 2:\n",
      "    Accuracy: 0.8213485663082437\n",
      "    Precision: 0.8208254719970731\n",
      "    Recall: 0.7818040076068086\n",
      "    F1 Score: 0.7945396614002609\n",
      "Fold 3:\n",
      "  X_train shape: (17856, 256, 4)\n",
      "  y_train shape: (17856,)\n",
      "  X_val shape: (8928, 256, 4)\n",
      "  y_val shape: (8928,)\n"
     ]
    },
    {
     "name": "stderr",
     "output_type": "stream",
     "text": [
      "Training fold 3: 100%|██████████| 20/20 [04:41<00:00, 14.09s/it]\n",
      "[I 2024-06-01 22:47:25,725] Trial 2 finished with value: 0.7881705799102211 and parameters: {'conv1_filters': 16, 'conv2_filters': 128, 'conv3_filters': 256, 'fc1_units': 64, 'dropout_rate': 0.6000000000000001}. Best is trial 1 with value: 0.802904339479538.\n"
     ]
    },
    {
     "name": "stdout",
     "output_type": "stream",
     "text": [
      "  Results for fold 3:\n",
      "    Accuracy: 0.8056675627240143\n",
      "    Precision: 0.7890135269807863\n",
      "    Recall: 0.7836815607300189\n",
      "    F1 Score: 0.7861531054405393\n",
      "Average across folds:\n",
      "  Accuracy: 0.8137694145758662\n",
      "  Precision: 0.8064869981476136\n",
      "  Recall: 0.7788445673535879\n",
      "  F1 Score: 0.7881705799102211\n",
      "Training and cross-validation completed.\n",
      "Fold 1:\n",
      "  X_train shape: (17856, 256, 4)\n",
      "  y_train shape: (17856,)\n",
      "  X_val shape: (8928, 256, 4)\n",
      "  y_val shape: (8928,)\n"
     ]
    },
    {
     "name": "stderr",
     "output_type": "stream",
     "text": [
      "Training fold 1: 100%|██████████| 20/20 [02:58<00:00,  8.92s/it]\n"
     ]
    },
    {
     "name": "stdout",
     "output_type": "stream",
     "text": [
      "  Results for fold 1:\n",
      "    Accuracy: 0.798163082437276\n",
      "    Precision: 0.7972587499585189\n",
      "    Recall: 0.7454976529381354\n",
      "    F1 Score: 0.7599021763190187\n",
      "Fold 2:\n",
      "  X_train shape: (17856, 256, 4)\n",
      "  y_train shape: (17856,)\n",
      "  X_val shape: (8928, 256, 4)\n",
      "  y_val shape: (8928,)\n"
     ]
    },
    {
     "name": "stderr",
     "output_type": "stream",
     "text": [
      "Training fold 2: 100%|██████████| 20/20 [02:55<00:00,  8.79s/it]\n"
     ]
    },
    {
     "name": "stdout",
     "output_type": "stream",
     "text": [
      "  Results for fold 2:\n",
      "    Accuracy: 0.7892025089605734\n",
      "    Precision: 0.7913980442415625\n",
      "    Recall: 0.7370564807665448\n",
      "    F1 Score: 0.7507163466616975\n",
      "Fold 3:\n",
      "  X_train shape: (17856, 256, 4)\n",
      "  y_train shape: (17856,)\n",
      "  X_val shape: (8928, 256, 4)\n",
      "  y_val shape: (8928,)\n"
     ]
    },
    {
     "name": "stderr",
     "output_type": "stream",
     "text": [
      "Training fold 3: 100%|██████████| 20/20 [02:57<00:00,  8.88s/it]\n",
      "[I 2024-06-01 22:56:20,735] Trial 3 finished with value: 0.7633039028618388 and parameters: {'conv1_filters': 16, 'conv2_filters': 32, 'conv3_filters': 256, 'fc1_units': 128, 'dropout_rate': 0.3}. Best is trial 1 with value: 0.802904339479538.\n"
     ]
    },
    {
     "name": "stdout",
     "output_type": "stream",
     "text": [
      "  Results for fold 3:\n",
      "    Accuracy: 0.7987231182795699\n",
      "    Precision: 0.7809334743515977\n",
      "    Recall: 0.7777976304484636\n",
      "    F1 Score: 0.7792931856048004\n",
      "Average across folds:\n",
      "  Accuracy: 0.7953629032258065\n",
      "  Precision: 0.7898634228505598\n",
      "  Recall: 0.7534505880510479\n",
      "  F1 Score: 0.7633039028618388\n",
      "Training and cross-validation completed.\n",
      "Fold 1:\n",
      "  X_train shape: (17856, 256, 4)\n",
      "  y_train shape: (17856,)\n",
      "  X_val shape: (8928, 256, 4)\n",
      "  y_val shape: (8928,)\n"
     ]
    },
    {
     "name": "stderr",
     "output_type": "stream",
     "text": [
      "Training fold 1: 100%|██████████| 20/20 [02:55<00:00,  8.76s/it]\n"
     ]
    },
    {
     "name": "stdout",
     "output_type": "stream",
     "text": [
      "  Results for fold 1:\n",
      "    Accuracy: 0.8378136200716846\n",
      "    Precision: 0.8267564387636558\n",
      "    Recall: 0.8107766603480958\n",
      "    F1 Score: 0.8175403225806452\n",
      "Fold 2:\n",
      "  X_train shape: (17856, 256, 4)\n",
      "  y_train shape: (17856,)\n",
      "  X_val shape: (8928, 256, 4)\n",
      "  y_val shape: (8928,)\n"
     ]
    },
    {
     "name": "stderr",
     "output_type": "stream",
     "text": [
      "Training fold 2: 100%|██████████| 20/20 [02:51<00:00,  8.56s/it]\n"
     ]
    },
    {
     "name": "stdout",
     "output_type": "stream",
     "text": [
      "  Results for fold 2:\n",
      "    Accuracy: 0.8066756272401434\n",
      "    Precision: 0.7918326229092902\n",
      "    Recall: 0.7819924422035206\n",
      "    F1 Score: 0.7862806094979627\n",
      "Fold 3:\n",
      "  X_train shape: (17856, 256, 4)\n",
      "  y_train shape: (17856,)\n",
      "  X_val shape: (8928, 256, 4)\n",
      "  y_val shape: (8928,)\n"
     ]
    },
    {
     "name": "stderr",
     "output_type": "stream",
     "text": [
      "Training fold 3: 100%|██████████| 20/20 [02:55<00:00,  8.78s/it]\n",
      "[I 2024-06-01 23:05:06,111] Trial 4 finished with value: 0.7969053147945943 and parameters: {'conv1_filters': 32, 'conv2_filters': 64, 'conv3_filters': 128, 'fc1_units': 192, 'dropout_rate': 0.3}. Best is trial 1 with value: 0.802904339479538.\n"
     ]
    },
    {
     "name": "stdout",
     "output_type": "stream",
     "text": [
      "  Results for fold 3:\n",
      "    Accuracy: 0.8202284946236559\n",
      "    Precision: 0.831676168184216\n",
      "    Recall: 0.7702138616028675\n",
      "    F1 Score: 0.7868950123051748\n",
      "Average across folds:\n",
      "  Accuracy: 0.8215725806451614\n",
      "  Precision: 0.8167550766190539\n",
      "  Recall: 0.7876609880514946\n",
      "  F1 Score: 0.7969053147945943\n",
      "Training and cross-validation completed.\n",
      "Fold 1:\n",
      "  X_train shape: (17856, 256, 4)\n",
      "  y_train shape: (17856,)\n",
      "  X_val shape: (8928, 256, 4)\n",
      "  y_val shape: (8928,)\n"
     ]
    },
    {
     "name": "stderr",
     "output_type": "stream",
     "text": [
      "Training fold 1: 100%|██████████| 20/20 [03:29<00:00, 10.46s/it]\n"
     ]
    },
    {
     "name": "stdout",
     "output_type": "stream",
     "text": [
      "  Results for fold 1:\n",
      "    Accuracy: 0.8125\n",
      "    Precision: 0.828273119411197\n",
      "    Recall: 0.7535729243494744\n",
      "    F1 Score: 0.7717593446668662\n",
      "Fold 2:\n",
      "  X_train shape: (17856, 256, 4)\n",
      "  y_train shape: (17856,)\n",
      "  X_val shape: (8928, 256, 4)\n",
      "  y_val shape: (8928,)\n"
     ]
    },
    {
     "name": "stderr",
     "output_type": "stream",
     "text": [
      "Training fold 2: 100%|██████████| 20/20 [03:32<00:00, 10.63s/it]\n"
     ]
    },
    {
     "name": "stdout",
     "output_type": "stream",
     "text": [
      "  Results for fold 2:\n",
      "    Accuracy: 0.8228046594982079\n",
      "    Precision: 0.819925112087275\n",
      "    Recall: 0.7859117180776102\n",
      "    F1 Score: 0.7975738841701675\n",
      "Fold 3:\n",
      "  X_train shape: (17856, 256, 4)\n",
      "  y_train shape: (17856,)\n",
      "  X_val shape: (8928, 256, 4)\n",
      "  y_val shape: (8928,)\n"
     ]
    },
    {
     "name": "stderr",
     "output_type": "stream",
     "text": [
      "Training fold 3: 100%|██████████| 20/20 [03:30<00:00, 10.55s/it]\n",
      "[I 2024-06-01 23:15:44,252] Trial 5 finished with value: 0.789332976195019 and parameters: {'conv1_filters': 16, 'conv2_filters': 128, 'conv3_filters': 192, 'fc1_units': 64, 'dropout_rate': 0.7}. Best is trial 1 with value: 0.802904339479538.\n"
     ]
    },
    {
     "name": "stdout",
     "output_type": "stream",
     "text": [
      "  Results for fold 3:\n",
      "    Accuracy: 0.8297491039426523\n",
      "    Precision: 0.8430458894896149\n",
      "    Recall: 0.7814054231537473\n",
      "    F1 Score: 0.7986656997480235\n",
      "Average across folds:\n",
      "  Accuracy: 0.82168458781362\n",
      "  Precision: 0.830414706996029\n",
      "  Recall: 0.7736300218602773\n",
      "  F1 Score: 0.789332976195019\n",
      "Training and cross-validation completed.\n",
      "Fold 1:\n",
      "  X_train shape: (17856, 256, 4)\n",
      "  y_train shape: (17856,)\n",
      "  X_val shape: (8928, 256, 4)\n",
      "  y_val shape: (8928,)\n"
     ]
    },
    {
     "name": "stderr",
     "output_type": "stream",
     "text": [
      "Training fold 1: 100%|██████████| 20/20 [03:40<00:00, 11.01s/it]\n"
     ]
    },
    {
     "name": "stdout",
     "output_type": "stream",
     "text": [
      "  Results for fold 1:\n",
      "    Accuracy: 0.7764336917562724\n",
      "    Precision: 0.828673835125448\n",
      "    Recall: 0.69046041013269\n",
      "    F1 Score: 0.7043685068296075\n",
      "Fold 2:\n",
      "  X_train shape: (17856, 256, 4)\n",
      "  y_train shape: (17856,)\n",
      "  X_val shape: (8928, 256, 4)\n",
      "  y_val shape: (8928,)\n"
     ]
    },
    {
     "name": "stderr",
     "output_type": "stream",
     "text": [
      "Training fold 2: 100%|██████████| 20/20 [03:38<00:00, 10.94s/it]\n"
     ]
    },
    {
     "name": "stdout",
     "output_type": "stream",
     "text": [
      "  Results for fold 2:\n",
      "    Accuracy: 0.8121639784946236\n",
      "    Precision: 0.8228090535456173\n",
      "    Recall: 0.7615802406363015\n",
      "    F1 Score: 0.7775684400268762\n",
      "Fold 3:\n",
      "  X_train shape: (17856, 256, 4)\n",
      "  y_train shape: (17856,)\n",
      "  X_val shape: (8928, 256, 4)\n",
      "  y_val shape: (8928,)\n"
     ]
    },
    {
     "name": "stderr",
     "output_type": "stream",
     "text": [
      "Training fold 3: 100%|██████████| 20/20 [03:33<00:00, 10.65s/it]\n",
      "[I 2024-06-01 23:26:40,195] Trial 6 finished with value: 0.7635130273554208 and parameters: {'conv1_filters': 16, 'conv2_filters': 64, 'conv3_filters': 192, 'fc1_units': 192, 'dropout_rate': 0.6000000000000001}. Best is trial 1 with value: 0.802904339479538.\n"
     ]
    },
    {
     "name": "stdout",
     "output_type": "stream",
     "text": [
      "  Results for fold 3:\n",
      "    Accuracy: 0.8271729390681004\n",
      "    Precision: 0.81417035156199\n",
      "    Recall: 0.8041774701069855\n",
      "    F1 Score: 0.8086021352097791\n",
      "Average across folds:\n",
      "  Accuracy: 0.8052568697729988\n",
      "  Precision: 0.8218844134110185\n",
      "  Recall: 0.7520727069586589\n",
      "  F1 Score: 0.7635130273554208\n",
      "Training and cross-validation completed.\n",
      "Fold 1:\n",
      "  X_train shape: (17856, 256, 4)\n",
      "  y_train shape: (17856,)\n",
      "  X_val shape: (8928, 256, 4)\n",
      "  y_val shape: (8928,)\n"
     ]
    },
    {
     "name": "stderr",
     "output_type": "stream",
     "text": [
      "Training fold 1: 100%|██████████| 20/20 [01:41<00:00,  5.08s/it]\n"
     ]
    },
    {
     "name": "stdout",
     "output_type": "stream",
     "text": [
      "  Results for fold 1:\n",
      "    Accuracy: 0.7809139784946236\n",
      "    Precision: 0.8185909393519377\n",
      "    Recall: 0.7012168326727555\n",
      "    F1 Score: 0.7167216974720003\n",
      "Fold 2:\n",
      "  X_train shape: (17856, 256, 4)\n",
      "  y_train shape: (17856,)\n",
      "  X_val shape: (8928, 256, 4)\n",
      "  y_val shape: (8928,)\n"
     ]
    },
    {
     "name": "stderr",
     "output_type": "stream",
     "text": [
      "Training fold 2: 100%|██████████| 20/20 [01:40<00:00,  5.03s/it]\n"
     ]
    },
    {
     "name": "stdout",
     "output_type": "stream",
     "text": [
      "  Results for fold 2:\n",
      "    Accuracy: 0.7905465949820788\n",
      "    Precision: 0.7733291088046892\n",
      "    Recall: 0.7656949918204922\n",
      "    F1 Score: 0.7690818382874665\n",
      "Fold 3:\n",
      "  X_train shape: (17856, 256, 4)\n",
      "  y_train shape: (17856,)\n",
      "  X_val shape: (8928, 256, 4)\n",
      "  y_val shape: (8928,)\n"
     ]
    },
    {
     "name": "stderr",
     "output_type": "stream",
     "text": [
      "Training fold 3: 100%|██████████| 20/20 [01:41<00:00,  5.09s/it]\n",
      "[I 2024-06-01 23:31:46,202] Trial 7 finished with value: 0.7587314793867966 and parameters: {'conv1_filters': 16, 'conv2_filters': 32, 'conv3_filters': 64, 'fc1_units': 256, 'dropout_rate': 0.3}. Best is trial 1 with value: 0.802904339479538.\n"
     ]
    },
    {
     "name": "stdout",
     "output_type": "stream",
     "text": [
      "  Results for fold 3:\n",
      "    Accuracy: 0.8101478494623656\n",
      "    Precision: 0.7944841771357662\n",
      "    Recall: 0.7870190713328044\n",
      "    F1 Score: 0.7903909024009232\n",
      "Average across folds:\n",
      "  Accuracy: 0.7938694743130227\n",
      "  Precision: 0.7954680750974644\n",
      "  Recall: 0.751310298608684\n",
      "  F1 Score: 0.7587314793867966\n",
      "Training and cross-validation completed.\n",
      "Fold 1:\n",
      "  X_train shape: (17856, 256, 4)\n",
      "  y_train shape: (17856,)\n",
      "  X_val shape: (8928, 256, 4)\n",
      "  y_val shape: (8928,)\n"
     ]
    },
    {
     "name": "stderr",
     "output_type": "stream",
     "text": [
      "Training fold 1: 100%|██████████| 20/20 [07:31<00:00, 22.58s/it]\n"
     ]
    },
    {
     "name": "stdout",
     "output_type": "stream",
     "text": [
      "  Results for fold 1:\n",
      "    Accuracy: 0.8169802867383512\n",
      "    Precision: 0.8090584380728224\n",
      "    Recall: 0.7782846665517835\n",
      "    F1 Score: 0.789299808219501\n",
      "Fold 2:\n",
      "  X_train shape: (17856, 256, 4)\n",
      "  y_train shape: (17856,)\n",
      "  X_val shape: (8928, 256, 4)\n",
      "  y_val shape: (8928,)\n"
     ]
    },
    {
     "name": "stderr",
     "output_type": "stream",
     "text": [
      "Training fold 2: 100%|██████████| 20/20 [07:35<00:00, 22.76s/it]\n"
     ]
    },
    {
     "name": "stdout",
     "output_type": "stream",
     "text": [
      "  Results for fold 2:\n",
      "    Accuracy: 0.802755376344086\n",
      "    Precision: 0.7986128733771145\n",
      "    Recall: 0.7607519470983719\n",
      "    F1 Score: 0.7726466473712426\n",
      "Fold 3:\n",
      "  X_train shape: (17856, 256, 4)\n",
      "  y_train shape: (17856,)\n",
      "  X_val shape: (8928, 256, 4)\n",
      "  y_val shape: (8928,)\n"
     ]
    },
    {
     "name": "stderr",
     "output_type": "stream",
     "text": [
      "Training fold 3: 100%|██████████| 20/20 [07:45<00:00, 23.28s/it]\n",
      "[I 2024-06-01 23:54:47,713] Trial 8 finished with value: 0.7879995670634045 and parameters: {'conv1_filters': 64, 'conv2_filters': 128, 'conv3_filters': 256, 'fc1_units': 256, 'dropout_rate': 0.4}. Best is trial 1 with value: 0.802904339479538.\n"
     ]
    },
    {
     "name": "stdout",
     "output_type": "stream",
     "text": [
      "  Results for fold 3:\n",
      "    Accuracy: 0.8158602150537635\n",
      "    Precision: 0.7984828293707056\n",
      "    Recall: 0.8067252578871043\n",
      "    F1 Score: 0.8020522455994699\n",
      "Average across folds:\n",
      "  Accuracy: 0.811865292712067\n",
      "  Precision: 0.8020513802735474\n",
      "  Recall: 0.7819206238457532\n",
      "  F1 Score: 0.7879995670634045\n",
      "Training and cross-validation completed.\n",
      "Fold 1:\n",
      "  X_train shape: (17856, 256, 4)\n",
      "  y_train shape: (17856,)\n",
      "  X_val shape: (8928, 256, 4)\n",
      "  y_val shape: (8928,)\n"
     ]
    },
    {
     "name": "stderr",
     "output_type": "stream",
     "text": [
      "Training fold 1: 100%|██████████| 20/20 [02:44<00:00,  8.21s/it]\n"
     ]
    },
    {
     "name": "stdout",
     "output_type": "stream",
     "text": [
      "  Results for fold 1:\n",
      "    Accuracy: 0.8220206093189965\n",
      "    Precision: 0.813752741930285\n",
      "    Recall: 0.7855585042219542\n",
      "    F1 Score: 0.7959922123643663\n",
      "Fold 2:\n",
      "  X_train shape: (17856, 256, 4)\n",
      "  y_train shape: (17856,)\n",
      "  X_val shape: (8928, 256, 4)\n",
      "  y_val shape: (8928,)\n"
     ]
    },
    {
     "name": "stderr",
     "output_type": "stream",
     "text": [
      "Training fold 2: 100%|██████████| 20/20 [02:45<00:00,  8.29s/it]\n"
     ]
    },
    {
     "name": "stdout",
     "output_type": "stream",
     "text": [
      "  Results for fold 2:\n",
      "    Accuracy: 0.8123879928315412\n",
      "    Precision: 0.7988556040703281\n",
      "    Recall: 0.7868568383365425\n",
      "    F1 Score: 0.7919705478015704\n",
      "Fold 3:\n",
      "  X_train shape: (17856, 256, 4)\n",
      "  y_train shape: (17856,)\n",
      "  X_val shape: (8928, 256, 4)\n",
      "  y_val shape: (8928,)\n"
     ]
    },
    {
     "name": "stderr",
     "output_type": "stream",
     "text": [
      "Training fold 3: 100%|██████████| 20/20 [02:45<00:00,  8.29s/it]\n",
      "[I 2024-06-02 00:03:07,169] Trial 9 finished with value: 0.786890810482558 and parameters: {'conv1_filters': 16, 'conv2_filters': 96, 'conv3_filters': 128, 'fc1_units': 128, 'dropout_rate': 0.4}. Best is trial 1 with value: 0.802904339479538.\n"
     ]
    },
    {
     "name": "stdout",
     "output_type": "stream",
     "text": [
      "  Results for fold 3:\n",
      "    Accuracy: 0.7850582437275986\n",
      "    Precision: 0.7679026897315928\n",
      "    Recall: 0.7828825895422333\n",
      "    F1 Score: 0.7727096712817373\n",
      "Average across folds:\n",
      "  Accuracy: 0.8064889486260455\n",
      "  Precision: 0.793503678577402\n",
      "  Recall: 0.7850993107002434\n",
      "  F1 Score: 0.786890810482558\n",
      "Training and cross-validation completed.\n",
      "Best trial: [0.802904339479538]\n",
      "Best hyperparameters: {'conv1_filters': 48, 'conv2_filters': 128, 'conv3_filters': 192, 'fc1_units': 256, 'dropout_rate': 0.5}\n",
      "Fold 1:\n",
      "  X_train shape: (229578, 256, 4)\n",
      "  y_train shape: (229578,)\n",
      "  X_val shape: (38263, 256, 4)\n",
      "  y_val shape: (38263,)\n"
     ]
    },
    {
     "name": "stderr",
     "output_type": "stream",
     "text": [
      "Training fold 1: 100%|██████████| 20/20 [1:50:51<00:00, 332.57s/it]\n"
     ]
    },
    {
     "name": "stdout",
     "output_type": "stream",
     "text": [
      "  Results for fold 1:\n",
      "    Accuracy: 0.8700311005409926\n",
      "    Precision: 0.9009225514896506\n",
      "    Recall: 0.8234140864905442\n",
      "    F1 Score: 0.8454257451540994\n",
      "Fold 2:\n",
      "  X_train shape: (229578, 256, 4)\n",
      "  y_train shape: (229578,)\n",
      "  X_val shape: (38263, 256, 4)\n",
      "  y_val shape: (38263,)\n"
     ]
    },
    {
     "name": "stderr",
     "output_type": "stream",
     "text": [
      "Training fold 2: 100%|██████████| 20/20 [1:50:32<00:00, 331.60s/it]\n"
     ]
    },
    {
     "name": "stdout",
     "output_type": "stream",
     "text": [
      "  Results for fold 2:\n",
      "    Accuracy: 0.8910174319839009\n",
      "    Precision: 0.9141971093448813\n",
      "    Recall: 0.8513143383137842\n",
      "    F1 Score: 0.8718772618473756\n",
      "Fold 3:\n",
      "  X_train shape: (229578, 256, 4)\n",
      "  y_train shape: (229578,)\n",
      "  X_val shape: (38263, 256, 4)\n",
      "  y_val shape: (38263,)\n"
     ]
    },
    {
     "name": "stderr",
     "output_type": "stream",
     "text": [
      "Training fold 3: 100%|██████████| 20/20 [1:50:13<00:00, 330.67s/it]\n"
     ]
    },
    {
     "name": "stdout",
     "output_type": "stream",
     "text": [
      "  Results for fold 3:\n",
      "    Accuracy: 0.8855552361288974\n",
      "    Precision: 0.8865494109664817\n",
      "    Recall: 0.8615496383568673\n",
      "    F1 Score: 0.8716356083662049\n",
      "Fold 4:\n",
      "  X_train shape: (229578, 256, 4)\n",
      "  y_train shape: (229578,)\n",
      "  X_val shape: (38263, 256, 4)\n",
      "  y_val shape: (38263,)\n"
     ]
    },
    {
     "name": "stderr",
     "output_type": "stream",
     "text": [
      "Training fold 4: 100%|██████████| 20/20 [1:50:50<00:00, 332.54s/it]\n"
     ]
    },
    {
     "name": "stdout",
     "output_type": "stream",
     "text": [
      "  Results for fold 4:\n",
      "    Accuracy: 0.9140161513733894\n",
      "    Precision: 0.9249399375388296\n",
      "    Recall: 0.8884626267594669\n",
      "    F1 Score: 0.9025062360714367\n",
      "Fold 5:\n",
      "  X_train shape: (229578, 256, 4)\n",
      "  y_train shape: (229578,)\n",
      "  X_val shape: (38263, 256, 4)\n",
      "  y_val shape: (38263,)\n"
     ]
    },
    {
     "name": "stderr",
     "output_type": "stream",
     "text": [
      "Training fold 5: 100%|██████████| 20/20 [2:05:31<00:00, 376.60s/it]\n"
     ]
    },
    {
     "name": "stdout",
     "output_type": "stream",
     "text": [
      "  Results for fold 5:\n",
      "    Accuracy: 0.8876198938922719\n",
      "    Precision: 0.9173462416274357\n",
      "    Recall: 0.8450765701365981\n",
      "    F1 Score: 0.8671967461025473\n",
      "Fold 6:\n",
      "  X_train shape: (229578, 256, 4)\n",
      "  y_train shape: (229578,)\n",
      "  X_val shape: (38263, 256, 4)\n",
      "  y_val shape: (38263,)\n"
     ]
    },
    {
     "name": "stderr",
     "output_type": "stream",
     "text": [
      "Training fold 6: 100%|██████████| 20/20 [2:31:28<00:00, 454.42s/it]  \n"
     ]
    },
    {
     "name": "stdout",
     "output_type": "stream",
     "text": [
      "  Results for fold 6:\n",
      "    Accuracy: 0.9196090217703787\n",
      "    Precision: 0.9140276450657897\n",
      "    Recall: 0.9089771452676367\n",
      "    F1 Score: 0.9114028479469622\n",
      "Fold 7:\n",
      "  X_train shape: (229578, 256, 4)\n",
      "  y_train shape: (229578,)\n",
      "  X_val shape: (38263, 256, 4)\n",
      "  y_val shape: (38263,)\n"
     ]
    },
    {
     "name": "stderr",
     "output_type": "stream",
     "text": [
      "Training fold 7: 100%|██████████| 20/20 [2:07:39<00:00, 382.95s/it]  \n"
     ]
    },
    {
     "name": "stdout",
     "output_type": "stream",
     "text": [
      "  Results for fold 7:\n",
      "    Accuracy: 0.9091027885947259\n",
      "    Precision: 0.9272160151834048\n",
      "    Recall: 0.8769041859197284\n",
      "    F1 Score: 0.8949112075143654\n",
      "Average across folds:\n",
      "  Accuracy: 0.896707374897794\n",
      "  Precision: 0.9121712730309248\n",
      "  Recall: 0.8650997987492322\n",
      "  F1 Score: 0.8807079504289989\n",
      "Training and cross-validation completed.\n",
      "Final training with best hyperparameters:\n",
      "  Accuracy: 0.896707374897794\n",
      "  Precision: 0.9121712730309248\n",
      "  Recall: 0.8650997987492322\n",
      "  F1 Score: 0.8807079504289989\n",
      "Model will be saved as: best_pure_metrics_cnn_model_20240602_141132.pth\n",
      "Best model saved to 'best_pure_metrics_cnn_model_20240602_141132.pth'.\n"
     ]
    }
   ],
   "source": [
    "# BLOCK 7\n",
    "\n",
    "study = optuna.create_study(direction='maximize')\n",
    "study.optimize(objective, n_trials=10)\n",
    "\n",
    "best_trial = study.best_trial\n",
    "print(f\"Best trial: {best_trial.values}\")\n",
    "print(f\"Best hyperparameters: {best_trial.params}\")\n",
    "\n",
    "# BLOCK 8\n",
    "\n",
    "best_hyperparameters = best_trial.params\n",
    "best_model, results = train_and_evaluate(X_train_full, y_train_full, fold_count=7, **best_hyperparameters)\n",
    "\n",
    "avg_results = np.mean(results, axis=0)\n",
    "print(\"Final training with best hyperparameters:\")\n",
    "print(f\"  Accuracy: {avg_results[0]}\")\n",
    "print(f\"  Precision: {avg_results[1]}\")\n",
    "print(f\"  Recall: {avg_results[2]}\")\n",
    "print(f\"  F1 Score: {avg_results[3]}\")\n",
    "\n",
    "now = datetime.now()\n",
    "timestamp = now.strftime(\"%Y%m%d_%H%M%S\")\n",
    "filename = f\"best_pure_metrics_cnn_model_{timestamp}.pth\"\n",
    "print(f\"Model will be saved as: {filename}\")\n",
    "\n",
    "if best_model is not None:\n",
    "    torch.save(best_model, filename)\n",
    "    print(f\"Best model saved to '{filename}'.\")"
   ]
  },
  {
   "cell_type": "code",
   "execution_count": 8,
   "metadata": {},
   "outputs": [
    {
     "name": "stdout",
     "output_type": "stream",
     "text": [
      "Test set evaluation results:\n",
      "  Accuracy: 0.917797717571217\n",
      "  Precision: 0.9134568367293017\n",
      "  Recall: 0.9055249910166071\n",
      "  F1 Score: 0.9092475604292138\n"
     ]
    },
    {
     "data": {
      "text/plain": [
       "(0.917797717571217, 0.9134568367293017, 0.9055249910166071, 0.9092475604292138)"
      ]
     },
     "execution_count": 8,
     "metadata": {},
     "output_type": "execute_result"
    }
   ],
   "source": [
    "# BLOCK 9 - Testing the model on the test set\n",
    "\n",
    "def evaluate_model_on_test_set(model, X_test, y_test):\n",
    "    model.eval()\n",
    "    with torch.no_grad():\n",
    "        test_predictions = []\n",
    "        test_true = []\n",
    "        for inputs, labels in DataLoader(TensorDataset(X_test, y_test), batch_size=16, shuffle=False):\n",
    "            outputs = model(inputs)\n",
    "            _, predicted = torch.max(outputs.data, 1)\n",
    "            test_predictions.extend(predicted.numpy())\n",
    "            test_true.extend(labels.numpy())\n",
    "\n",
    "    accuracy = accuracy_score(test_true, test_predictions)\n",
    "    precision = precision_score(test_true, test_predictions, average='macro')\n",
    "    recall = recall_score(test_true, test_predictions, average='macro')\n",
    "    f1 = f1_score(test_true, test_predictions, average='macro')\n",
    "\n",
    "    print(\"Test set evaluation results:\")\n",
    "    print(f\"  Accuracy: {accuracy}\")\n",
    "    print(f\"  Precision: {precision}\")\n",
    "    print(f\"  Recall: {recall}\")\n",
    "    print(f\"  F1 Score: {f1}\")\n",
    "\n",
    "    return accuracy, precision, recall, f1\n",
    "\n",
    "# Prepare the test data\n",
    "X_test_tensor = torch.tensor(X_test_full, dtype=torch.float32).permute(0, 2, 1).unsqueeze(3)\n",
    "y_test_tensor = torch.tensor(y_test_full, dtype=torch.long)\n",
    "\n",
    "# Load the best model\n",
    "model = CNNModel(**best_hyperparameters)\n",
    "model.load_state_dict(torch.load(filename))\n",
    "\n",
    "# Evaluate the model on the test set\n",
    "evaluate_model_on_test_set(model, X_test_tensor, y_test_tensor)\n"
   ]
  },
  {
   "cell_type": "code",
   "execution_count": 7,
   "metadata": {},
   "outputs": [
    {
     "ename": "RuntimeError",
     "evalue": "Error(s) in loading state_dict for CNNModel:\n\tsize mismatch for conv1.weight: copying a param with shape torch.Size([48, 4, 5, 1]) from checkpoint, the shape in current model is torch.Size([32, 4, 5, 1]).\n\tsize mismatch for conv1.bias: copying a param with shape torch.Size([48]) from checkpoint, the shape in current model is torch.Size([32]).\n\tsize mismatch for conv2.weight: copying a param with shape torch.Size([128, 48, 5, 1]) from checkpoint, the shape in current model is torch.Size([64, 32, 5, 1]).\n\tsize mismatch for conv2.bias: copying a param with shape torch.Size([128]) from checkpoint, the shape in current model is torch.Size([64]).\n\tsize mismatch for conv3.weight: copying a param with shape torch.Size([192, 128, 5, 1]) from checkpoint, the shape in current model is torch.Size([128, 64, 5, 1]).\n\tsize mismatch for conv3.bias: copying a param with shape torch.Size([192]) from checkpoint, the shape in current model is torch.Size([128]).\n\tsize mismatch for fc1.weight: copying a param with shape torch.Size([256, 6144]) from checkpoint, the shape in current model is torch.Size([128, 4096]).\n\tsize mismatch for fc1.bias: copying a param with shape torch.Size([256]) from checkpoint, the shape in current model is torch.Size([128]).\n\tsize mismatch for fc2.weight: copying a param with shape torch.Size([2, 256]) from checkpoint, the shape in current model is torch.Size([2, 128]).",
     "output_type": "error",
     "traceback": [
      "\u001b[0;31m---------------------------------------------------------------------------\u001b[0m",
      "\u001b[0;31mRuntimeError\u001b[0m                              Traceback (most recent call last)",
      "Cell \u001b[0;32mIn[7], line 46\u001b[0m\n\u001b[1;32m     42\u001b[0m pure_metrics_model_path \u001b[38;5;241m=\u001b[39m \u001b[38;5;124m'\u001b[39m\u001b[38;5;124mbest_pure_metrics_cnn_model_20240602_141132.pth\u001b[39m\u001b[38;5;124m'\u001b[39m\n\u001b[1;32m     44\u001b[0m pure_metrics_model \u001b[38;5;241m=\u001b[39m CNNModel()\n\u001b[0;32m---> 46\u001b[0m \u001b[43mpure_metrics_model\u001b[49m\u001b[38;5;241;43m.\u001b[39;49m\u001b[43mload_state_dict\u001b[49m\u001b[43m(\u001b[49m\u001b[43mtorch\u001b[49m\u001b[38;5;241;43m.\u001b[39;49m\u001b[43mload\u001b[49m\u001b[43m(\u001b[49m\u001b[43mpure_metrics_model_path\u001b[49m\u001b[43m)\u001b[49m\u001b[43m)\u001b[49m\n\u001b[1;32m     48\u001b[0m \u001b[38;5;66;03m# Print metrics for both models\u001b[39;00m\n\u001b[1;32m     49\u001b[0m print_model_metrics(pure_metrics_model, \u001b[38;5;124m\"\u001b[39m\u001b[38;5;124mPure Metrics CNN Model\u001b[39m\u001b[38;5;124m\"\u001b[39m)\n",
      "File \u001b[0;32m~/nnw/lib/python3.10/site-packages/torch/nn/modules/module.py:2189\u001b[0m, in \u001b[0;36mModule.load_state_dict\u001b[0;34m(self, state_dict, strict, assign)\u001b[0m\n\u001b[1;32m   2184\u001b[0m         error_msgs\u001b[38;5;241m.\u001b[39minsert(\n\u001b[1;32m   2185\u001b[0m             \u001b[38;5;241m0\u001b[39m, \u001b[38;5;124m'\u001b[39m\u001b[38;5;124mMissing key(s) in state_dict: \u001b[39m\u001b[38;5;132;01m{}\u001b[39;00m\u001b[38;5;124m. \u001b[39m\u001b[38;5;124m'\u001b[39m\u001b[38;5;241m.\u001b[39mformat(\n\u001b[1;32m   2186\u001b[0m                 \u001b[38;5;124m'\u001b[39m\u001b[38;5;124m, \u001b[39m\u001b[38;5;124m'\u001b[39m\u001b[38;5;241m.\u001b[39mjoin(\u001b[38;5;124mf\u001b[39m\u001b[38;5;124m'\u001b[39m\u001b[38;5;124m\"\u001b[39m\u001b[38;5;132;01m{\u001b[39;00mk\u001b[38;5;132;01m}\u001b[39;00m\u001b[38;5;124m\"\u001b[39m\u001b[38;5;124m'\u001b[39m \u001b[38;5;28;01mfor\u001b[39;00m k \u001b[38;5;129;01min\u001b[39;00m missing_keys)))\n\u001b[1;32m   2188\u001b[0m \u001b[38;5;28;01mif\u001b[39;00m \u001b[38;5;28mlen\u001b[39m(error_msgs) \u001b[38;5;241m>\u001b[39m \u001b[38;5;241m0\u001b[39m:\n\u001b[0;32m-> 2189\u001b[0m     \u001b[38;5;28;01mraise\u001b[39;00m \u001b[38;5;167;01mRuntimeError\u001b[39;00m(\u001b[38;5;124m'\u001b[39m\u001b[38;5;124mError(s) in loading state_dict for \u001b[39m\u001b[38;5;132;01m{}\u001b[39;00m\u001b[38;5;124m:\u001b[39m\u001b[38;5;130;01m\\n\u001b[39;00m\u001b[38;5;130;01m\\t\u001b[39;00m\u001b[38;5;132;01m{}\u001b[39;00m\u001b[38;5;124m'\u001b[39m\u001b[38;5;241m.\u001b[39mformat(\n\u001b[1;32m   2190\u001b[0m                        \u001b[38;5;28mself\u001b[39m\u001b[38;5;241m.\u001b[39m\u001b[38;5;18m__class__\u001b[39m\u001b[38;5;241m.\u001b[39m\u001b[38;5;18m__name__\u001b[39m, \u001b[38;5;124m\"\u001b[39m\u001b[38;5;130;01m\\n\u001b[39;00m\u001b[38;5;130;01m\\t\u001b[39;00m\u001b[38;5;124m\"\u001b[39m\u001b[38;5;241m.\u001b[39mjoin(error_msgs)))\n\u001b[1;32m   2191\u001b[0m \u001b[38;5;28;01mreturn\u001b[39;00m _IncompatibleKeys(missing_keys, unexpected_keys)\n",
      "\u001b[0;31mRuntimeError\u001b[0m: Error(s) in loading state_dict for CNNModel:\n\tsize mismatch for conv1.weight: copying a param with shape torch.Size([48, 4, 5, 1]) from checkpoint, the shape in current model is torch.Size([32, 4, 5, 1]).\n\tsize mismatch for conv1.bias: copying a param with shape torch.Size([48]) from checkpoint, the shape in current model is torch.Size([32]).\n\tsize mismatch for conv2.weight: copying a param with shape torch.Size([128, 48, 5, 1]) from checkpoint, the shape in current model is torch.Size([64, 32, 5, 1]).\n\tsize mismatch for conv2.bias: copying a param with shape torch.Size([128]) from checkpoint, the shape in current model is torch.Size([64]).\n\tsize mismatch for conv3.weight: copying a param with shape torch.Size([192, 128, 5, 1]) from checkpoint, the shape in current model is torch.Size([128, 64, 5, 1]).\n\tsize mismatch for conv3.bias: copying a param with shape torch.Size([192]) from checkpoint, the shape in current model is torch.Size([128]).\n\tsize mismatch for fc1.weight: copying a param with shape torch.Size([256, 6144]) from checkpoint, the shape in current model is torch.Size([128, 4096]).\n\tsize mismatch for fc1.bias: copying a param with shape torch.Size([256]) from checkpoint, the shape in current model is torch.Size([128]).\n\tsize mismatch for fc2.weight: copying a param with shape torch.Size([2, 256]) from checkpoint, the shape in current model is torch.Size([2, 128])."
     ]
    }
   ],
   "source": [
    "# BLOCK 10: MODEL METRICS\n",
    "\n",
    "import torch\n",
    "import torch.nn as nn\n",
    "import torch.nn.functional as F\n",
    "\n",
    "class CNNModel(nn.Module):\n",
    "    def __init__(self, conv1_filters=48, conv2_filters=128, conv3_filters=192, fc1_units=256, dropout_rate=0.5):\n",
    "        super(CNNModel, self).__init__()\n",
    "        self.conv1 = nn.Conv2d(4, conv1_filters, kernel_size=(5, 1), padding=(2, 0))\n",
    "        self.pool = nn.MaxPool2d((2, 1))\n",
    "        self.conv2 = nn.Conv2d(conv1_filters, conv2_filters, kernel_size=(5, 1), padding=(2, 0))\n",
    "        self.conv3 = nn.Conv2d(conv2_filters, conv3_filters, kernel_size=(5, 1), padding=(2, 0))\n",
    "\n",
    "        final_dim = 256 // (2**3)\n",
    "        self.fc1 = nn.Linear(conv3_filters * final_dim * 1, fc1_units)\n",
    "        self.dropout = nn.Dropout(dropout_rate)\n",
    "        self.fc2 = nn.Linear(fc1_units, 2)\n",
    "\n",
    "    def forward(self, x):\n",
    "        x = self.pool(F.relu(self.conv1(x)))\n",
    "        x = self.pool(F.relu(self.conv2(x)))\n",
    "        x = self.pool(F.relu(self.conv3(x)))\n",
    "        x = x.view(x.size(0), -1)\n",
    "        x = self.dropout(F.relu(self.fc1(x)))\n",
    "        x = self.fc2(x)\n",
    "        return x\n",
    "\n",
    "# Define a function to print model metrics\n",
    "def print_model_metrics(model, model_name):\n",
    "    total_params = sum(p.numel() for p in model.parameters())\n",
    "    trainable_params = sum(p.numel() for p in model.parameters() if p.requires_grad)\n",
    "    \n",
    "    print(f\"Model: {model_name}\")\n",
    "    print(f\"Total parameters: {total_params}\")\n",
    "    print(f\"Trainable parameters: {trainable_params}\")\n",
    "    print(\"Layer details:\")\n",
    "    for name, param in model.named_parameters():\n",
    "        print(f\"{name}: {param.size()}\")\n",
    "\n",
    "# Load the models\n",
    "pure_metrics_model_path = 'best_pure_metrics_cnn_model_20240602_141132.pth'\n",
    "\n",
    "pure_metrics_model = CNNModel()\n",
    "\n",
    "pure_metrics_model.load_state_dict(torch.load(pure_metrics_model_path))\n",
    "\n",
    "# Print metrics for the model\n",
    "print_model_metrics(pure_metrics_model, \"Pure Metrics CNN Model\")\n",
    "\n"
   ]
  }
 ],
 "metadata": {
  "kernelspec": {
   "display_name": "nnw",
   "language": "python",
   "name": "python3"
  },
  "language_info": {
   "codemirror_mode": {
    "name": "ipython",
    "version": 3
   },
   "file_extension": ".py",
   "mimetype": "text/x-python",
   "name": "python",
   "nbconvert_exporter": "python",
   "pygments_lexer": "ipython3",
   "version": "3.10.12"
  }
 },
 "nbformat": 4,
 "nbformat_minor": 2
}
